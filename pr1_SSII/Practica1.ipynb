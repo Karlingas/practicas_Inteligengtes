{
 "cells": [
  {
   "cell_type": "markdown",
   "metadata": {},
   "source": [
    "# Sistemas Inteligentes\n",
    "\n",
    "## Practica 1: Búsqueda en espacio de estados"
   ]
  },
  {
   "cell_type": "markdown",
   "metadata": {},
   "source": [
    "# Estructura"
   ]
  },
  {
   "cell_type": "markdown",
   "metadata": {},
   "source": [
    "## Clases\n",
    "\n"
   ]
  },
  {
   "cell_type": "markdown",
   "metadata": {},
   "source": [
    "### Acción\n",
    "Clase Acción que representa que es lo que ha de ser hecho, en este caso el origen, el destino y el coste entre estos.\n",
    "\n",
    "\n"
   ]
  },
  {
   "cell_type": "code",
   "execution_count": 55,
   "metadata": {},
   "outputs": [],
   "source": [
    "class Accion:\n",
    "    def __init__(self, origen, destino, coste):\n",
    "        self.origen = origen\n",
    "        self.destino = destino\n",
    "        self.coste = coste"
   ]
  },
  {
   "cell_type": "markdown",
   "metadata": {},
   "source": [
    "### Estado\n",
    "Clase estado que contiene el estado del problema, que en este caso es la interseccion donde estamos + el id\n"
   ]
  },
  {
   "cell_type": "code",
   "execution_count": 54,
   "metadata": {},
   "outputs": [],
   "source": [
    "class Estado:\n",
    "    def __init__(self, interseccion):\n",
    "        self.interseccion = interseccion"
   ]
  },
  {
   "cell_type": "markdown",
   "metadata": {},
   "source": [
    "### Nodo\n",
    "Clase que representa un nodo dentro del grafo a resolver. Este contiene un estado, un padre, una accion y su profundidad en el grafo.\n"
   ]
  },
  {
   "cell_type": "code",
   "execution_count": 53,
   "metadata": {},
   "outputs": [],
   "source": [
    "class Nodo:\n",
    "    def __init__(self,  estado, padre=None, accion=None, coste=0, profundidad=0, id=1):\n",
    "        self.estado = estado\n",
    "        self.padre = padre\n",
    "        self.accion = accion\n",
    "        self.coste = coste\n",
    "        self.profundidad = profundidad\n",
    "        self.id = id\n",
    "    \n",
    "    def hijo(self, accion):\n",
    "        estado_resultante = accion  # Suponiendo que las acciones modifican el estado\n",
    "        return Nodo(estado_resultante, self, accion, self.coste + 1, self.profundidad + 1)\n",
    "    \n",
    "    def solucion(self):\n",
    "        # Reconstruir el camino de la solución desde el nodo inicial\n",
    "        solucion = []\n",
    "        nodo_actual = self\n",
    "        while nodo_actual.padre is not None:\n",
    "            solucion.append(nodo_actual.accion)\n",
    "            nodo_actual = nodo_actual.padre\n",
    "        solucion.reverse()  # Para tener la solución en orden desde el inicio hasta el final\n",
    "        return solucion"
   ]
  },
  {
   "cell_type": "markdown",
   "metadata": {},
   "source": [
    "### Problema\n",
    "Clase que representa el problema a resolver, contiene la informacion del JSON y \n"
   ]
  },
  {
   "cell_type": "code",
   "execution_count": 52,
   "metadata": {},
   "outputs": [],
   "source": [
    "class Problema:\n",
    "    def __init__(self, ruta_json):\n",
    "        with open(ruta_json, 'r') as archivo:\n",
    "            datos_json = json.load(archivo)\n",
    "\n",
    "        self.distancia = datos_json[\"distance\"]\n",
    "        self.interseccion = datos_json[\"intersections\"]\n",
    "        self.estado_inicial = datos_json[\"initial\"]\n",
    "        self.estado_objetivo = datos_json[\"final\"]\n",
    "        self.segmentos = datos_json[\"segments\"]\n",
    "    \n",
    "\n",
    "    def es_objetivo(self, estado):\n",
    "        return estado == self.estado_objetivo\n",
    "    \n",
    "    def acciones(self, estado):\n",
    "        # Aquí se deben devolver las acciones posibles desde el estado actual (las intersecciones conectadas)\n",
    "        return [seg[\"destination\"] for seg in self.segmentos if seg[\"origin\"] == estado]\n",
    "    \n",
    "    def resultado(self, estado, accion):\n",
    "        # El resultado de aplicar una acción es simplemente el destino (intersección) al que se va\n",
    "        return accion\n",
    "    \n",
    "    def coste_individual(self, nodo, accion, s):\n",
    "        # Calcular el coste de la acción\n",
    "        for seg in self.segmentos:\n",
    "            if seg[\"origin\"] == nodo.estado and seg[\"destination\"] == accion:\n",
    "                return seg[\"distance\"]\n",
    "        return float('inf')  # Si no se encuentra el segmento"
   ]
  },
  {
   "cell_type": "markdown",
   "metadata": {},
   "source": [
    "### Busqueda\n",
    "Clase abstracta que contiene el bucle basico que usan todos los metodos de busqueda,"
   ]
  },
  {
   "cell_type": "code",
   "execution_count": 51,
   "metadata": {},
   "outputs": [],
   "source": [
    "from abc import ABC,abstractmethod\n",
    "\n",
    "class Busqueda(ABC):\n",
    "    def __init__(self, problema):\n",
    "        self.problema = problema\n",
    "        self.nodos_explorados = 0\n",
    "        self.nodos_expandidos = 0\n",
    "        self.soluciones_generadas = 0\n",
    "        self.coste = 0\n",
    "        self.profundidad = 0\n",
    "        self.frontera = []\n",
    "        self.cerrados = set()\n",
    "\n",
    "    def expandir(self, nodo, problema):\n",
    "        sucesores = []\n",
    "        for accion in problema.acciones(nodo.estado):\n",
    "            resultado = problema.resultado(nodo.estado, accion)\n",
    "            s = Nodo(resultado, nodo, accion)\n",
    "            s.coste = nodo.coste + problema.coste_individual(nodo, accion, s)\n",
    "            s.profundidad = nodo.profundidad + 1\n",
    "            sucesores.append(s)\n",
    "        return sucesores      \n",
    "    \n",
    "    def buscar(self):\n",
    "        self.insertar_nodo(self.problema.estado_inicial, self.frontera)\n",
    "\n",
    "        while True:\n",
    "            # Comprobamos que la frontera no está vacía\n",
    "            if self.es_vacio(self.frontera):\n",
    "                # No hay solución\n",
    "                return None, self.soluciones_generadas, self.nodos_explorados, self.nodos_expandidos, None, None\n",
    "            \n",
    "            # Extraemos el primer nodo de la frontera\n",
    "            nodo = self.extraer_nodo(self.frontera)\n",
    "            self.nodos_explorados += 1\n",
    "\n",
    "            # Comprobamos si el nodo es la solución\n",
    "            if self.problema.es_objetivo(nodo.estado):\n",
    "                coste = nodo.coste\n",
    "                profundidad = nodo.profundidad\n",
    "                return nodo.solucion(), self.soluciones_generadas, self.nodos_explorados, self.nodos_expandidos, coste, profundidad\n",
    "            \n",
    "            # Si no es la solución, expandimos los nodos sucesores\n",
    "            sucesores = self.expandir(nodo)\n",
    "            self.nodos_expandidos += len(sucesores)\n",
    "            \n",
    "            # Concatenar los sucesores a la frontera\n",
    "            self.concatenar_nodos(self.frontera, sucesores)\n",
    "            self.soluciones_generadas += len(sucesores)\n",
    "    \n",
    "    @abstractmethod\n",
    "    def insertar_nodo(self, nodo, frontera):\n",
    "        pass\n",
    "    @abstractmethod\n",
    "    def concatenar_nodos(self, frontera, sucesores):\n",
    "        pass\n",
    "    @abstractmethod\n",
    "    def extraer_nodo(self, frontera):\n",
    "        pass\n",
    "    @abstractmethod\n",
    "    def es_vacio(self, frontera):\n",
    "        pass\n"
   ]
  },
  {
   "cell_type": "markdown",
   "metadata": {},
   "source": [
    "### 1: Estrategia de búsqueda no informada"
   ]
  },
  {
   "cell_type": "markdown",
   "metadata": {},
   "source": [
    "#### 1.1: Búsqueda primero en anchura"
   ]
  },
  {
   "cell_type": "code",
   "execution_count": 6,
   "metadata": {},
   "outputs": [],
   "source": [
    "def busqueda_en_arbol(problema):\n",
    "    frontera = []\n",
    "    nodo_inicial = Nodo(problema.estado_inicial)\n",
    "    frontera.append(nodo_inicial)\n",
    "\n",
    "    # Estadísticas\n",
    "    soluciones_generadas = 0\n",
    "    nodos_explorados = 0\n",
    "    nodos_expandidos = 0\n",
    "\n",
    "    while True:\n",
    "        # Si la frontera está vacía, devolver FALLO\n",
    "        if not frontera:\n",
    "            return None, soluciones_generadas, nodos_explorados, nodos_expandidos, None, None\n",
    "        \n",
    "        # Borrar el primer nodo de la frontera\n",
    "        nodo = frontera.pop(0)\n",
    "        nodos_explorados += 1\n",
    "        \n",
    "        # Si el nodo contiene un estado objetivo, devolver la solución\n",
    "        if problema.es_objetivo(nodo.estado):\n",
    "            coste = nodo.coste\n",
    "            profundidad = nodo.profundidad\n",
    "            return nodo.solucion(), soluciones_generadas, nodos_explorados, nodos_expandidos, coste, profundidad\n",
    "        \n",
    "        # Expandir el nodo y añadir los hijos a la frontera\n",
    "        sucesores = expandir(nodo, problema)\n",
    "        nodos_expandidos += len(sucesores)\n",
    "        frontera.extend(sucesores)\n",
    "\n",
    "        # Contar las soluciones generadas\n",
    "        soluciones_generadas += len(sucesores)\n",
    "\n",
    "def expandir(nodo, problema):\n",
    "    sucesores = []\n",
    "    for accion in problema.acciones(nodo.estado):\n",
    "        resultado = problema.resultado(nodo.estado, accion)\n",
    "        s = Nodo(resultado, nodo, accion)\n",
    "        s.coste = nodo.coste + problema.coste_individual(nodo, accion, s)\n",
    "        s.profundidad = nodo.profundidad + 1\n",
    "        sucesores.append(s)\n",
    "    return sucesores"
   ]
  },
  {
   "cell_type": "code",
   "execution_count": 66,
   "metadata": {},
   "outputs": [
    {
     "ename": "TypeError",
     "evalue": "string indices must be integers",
     "output_type": "error",
     "traceback": [
      "\u001b[0;31m---------------------------------------------------------------------------\u001b[0m",
      "\u001b[0;31mTypeError\u001b[0m                                 Traceback (most recent call last)",
      "Cell \u001b[0;32mIn[66], line 9\u001b[0m\n\u001b[1;32m      6\u001b[0m ruta_json \u001b[38;5;241m=\u001b[39m \u001b[38;5;124mr\u001b[39m\u001b[38;5;124m'\u001b[39m\u001b[38;5;124mpr1_SSII/problems/medium/calle_mariÌa_mariÌn_500_0.json\u001b[39m\u001b[38;5;124m'\u001b[39m\n\u001b[1;32m      8\u001b[0m \u001b[38;5;66;03m# Crear el objeto problema\u001b[39;00m\n\u001b[0;32m----> 9\u001b[0m problema \u001b[38;5;241m=\u001b[39m \u001b[43mProblema\u001b[49m\u001b[43m(\u001b[49m\u001b[43mruta_json\u001b[49m\u001b[43m)\u001b[49m\n\u001b[1;32m     11\u001b[0m anchura \u001b[38;5;241m=\u001b[39m Busqueda_Anchura(problema)\n\u001b[1;32m     13\u001b[0m \u001b[38;5;66;03m# Ejecutar el algoritmo de búsqueda\u001b[39;00m\n",
      "File \u001b[0;32m~/Documents/GitHub/practicas_Inteligengtes/pr1_SSII/Classes.py:25\u001b[0m, in \u001b[0;36m__init__\u001b[0;34m(self, datos_json)\u001b[0m\n\u001b[1;32m     21\u001b[0m         \u001b[38;5;28;01mreturn\u001b[39;00m solucion\n\u001b[1;32m     23\u001b[0m \u001b[38;5;28;01mimport\u001b[39;00m \u001b[38;5;21;01mjson\u001b[39;00m\n\u001b[0;32m---> 25\u001b[0m \u001b[38;5;28;01mclass\u001b[39;00m \u001b[38;5;21;01mProblema\u001b[39;00m:\n\u001b[1;32m     26\u001b[0m \n\u001b[1;32m     27\u001b[0m     \u001b[38;5;66;03m#distancia = []\u001b[39;00m\n\u001b[1;32m     28\u001b[0m     \u001b[38;5;66;03m#interseccion = []\u001b[39;00m\n\u001b[1;32m     29\u001b[0m     \u001b[38;5;66;03m#estado_inicial = []\u001b[39;00m\n\u001b[1;32m     30\u001b[0m     \u001b[38;5;66;03m#estado_objetivo = []\u001b[39;00m\n\u001b[1;32m     31\u001b[0m     \u001b[38;5;66;03m#segmentos = []\u001b[39;00m\n\u001b[1;32m     33\u001b[0m     \u001b[38;5;28;01mdef\u001b[39;00m \u001b[38;5;21m__init__\u001b[39m(\u001b[38;5;28mself\u001b[39m, datos_json):\n\u001b[1;32m     34\u001b[0m         \u001b[38;5;28mself\u001b[39m\u001b[38;5;241m.\u001b[39mdistancia \u001b[38;5;241m=\u001b[39m datos_json[\u001b[38;5;124m\"\u001b[39m\u001b[38;5;124mdistance\u001b[39m\u001b[38;5;124m\"\u001b[39m]\n",
      "\u001b[0;31mTypeError\u001b[0m: string indices must be integers"
     ]
    }
   ],
   "source": [
    "from Classes import *\n",
    "from Busqueda import Busqueda_Anchura\n",
    "#Windows\n",
    "#ruta_json = r'problems\\medium\\calle_mariÌa_mariÌn_500_0.json'\n",
    "#MacOs\n",
    "ruta_json = r'pr1_SSII/problems/medium/calle_mariÌa_mariÌn_500_0.json'\n",
    "\n",
    "# Crear el objeto problema\n",
    "problema = Problema(ruta_json)\n",
    "\n",
    "anchura = Busqueda_Anchura(problema)\n",
    "\n",
    "# Ejecutar el algoritmo de búsqueda\n",
    "solucion, soluciones_generadas, nodos_explorados, nodos_expandidos, coste, profundidad = anchura.buscar()\n",
    "\n",
    "# Mostrar la solución y estadísticas\n",
    "if solucion:\n",
    "    print(\"Solución encontrada:\", solucion)\n",
    "    print(\"Estadísticas:\")\n",
    "    print(f\"Número de soluciones generadas: {soluciones_generadas}\")\n",
    "    print(f\"Número de nodos explorados: {nodos_explorados}\")\n",
    "    print(f\"Número de nodos expandidos: {nodos_expandidos}\")\n",
    "    print(f\"Coste de la solución: {coste}\")\n",
    "    print(f\"Profundidad de la solución: {profundidad}\")\n",
    "else:\n",
    "    print(\"No se encontró solución.\")"
   ]
  },
  {
   "cell_type": "markdown",
   "metadata": {},
   "source": []
  }
 ],
 "metadata": {
  "kernelspec": {
   "display_name": "Python 3",
   "language": "python",
   "name": "python3"
  },
  "language_info": {
   "codemirror_mode": {
    "name": "ipython",
    "version": 3
   },
   "file_extension": ".py",
   "mimetype": "text/x-python",
   "name": "python",
   "nbconvert_exporter": "python",
   "pygments_lexer": "ipython3",
   "version": "3.10.6"
  }
 },
 "nbformat": 4,
 "nbformat_minor": 2
}
