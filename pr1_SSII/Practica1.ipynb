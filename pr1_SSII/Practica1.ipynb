{
 "cells": [
  {
   "cell_type": "markdown",
   "metadata": {},
   "source": [
    "# Sistemas Inteligentes\n",
    "\n",
    "## Practica 1: Búsqueda en espacio de estados"
   ]
  },
  {
   "cell_type": "markdown",
   "metadata": {},
   "source": [
    "# Estructura"
   ]
  },
  {
   "cell_type": "markdown",
   "metadata": {},
   "source": [
    "## Clases\n",
    "\n"
   ]
  },
  {
   "cell_type": "markdown",
   "metadata": {},
   "source": [
    "### Acción\n",
    "Clase Acción que representa que es lo que ha de ser hecho, en este caso el origen, el destino y el coste entre estos.\n",
    "\n",
    "\n"
   ]
  },
  {
   "cell_type": "markdown",
   "metadata": {},
   "source": [
    "### Estado\n",
    "Clase estado que contiene el estado del problema, que en este caso es la interseccion donde estamos + el id\n"
   ]
  },
  {
   "cell_type": "markdown",
   "metadata": {},
   "source": [
    "### Nodo\n",
    "Clase que representa un nodo dentro del grafo a resolver. Este contiene un estado, un padre, una accion y su profundidad en el grafo.\n"
   ]
  },
  {
   "cell_type": "markdown",
   "metadata": {},
   "source": [
    "### Problema\n",
    "Clase que representa el problema a resolver, contiene la informacion del JSON y \n"
   ]
  },
  {
   "cell_type": "markdown",
   "metadata": {},
   "source": [
    "### Busqueda\n",
    "Clase abstracta que contiene el bucle basico que usan todos los metodos de busqueda,"
   ]
  },
  {
   "cell_type": "markdown",
   "metadata": {},
   "source": [
    "### 1: Estrategia de búsqueda no informada"
   ]
  },
  {
   "cell_type": "markdown",
   "metadata": {},
   "source": [
    "#### 1.1: Búsqueda primero en anchura"
   ]
  },
  {
   "cell_type": "code",
   "execution_count": 1,
   "metadata": {},
   "outputs": [
    {
     "name": "stdout",
     "output_type": "stream",
     "text": [
      "Búsqueda en anchura \n",
      "Solución encontrada: [1526728362, 1526728364, 1568067925, 1529201982, 1529623313, 499274675, 1573048065, 6296438171, 621983933, 1256026663, 1983117780, 1528823328, 1984210179, 672063711, 1845484937, 1322980461]\n",
      "Estadísticas:\n",
      "Número de soluciones generadas: 281\n",
      "Número de nodos explorados: 260\n",
      "Número de nodos expandidos: 281\n",
      "Coste de la solución: 937.2280000000002\n",
      "Profundidad de la solución: 16\n",
      "\n",
      " ------------------------- \n",
      "\n"
     ]
    },
    {
     "ename": "AttributeError",
     "evalue": "'Estado' object has no attribute 'distancia_objetivo'",
     "output_type": "error",
     "traceback": [
      "\u001b[1;31m---------------------------------------------------------------------------\u001b[0m",
      "\u001b[1;31mAttributeError\u001b[0m                            Traceback (most recent call last)",
      "Cell \u001b[1;32mIn[1], line 33\u001b[0m\n\u001b[0;32m     30\u001b[0m profundidad \u001b[38;5;241m=\u001b[39m Busqueda_Profundidad(problema)\n\u001b[0;32m     32\u001b[0m \u001b[38;5;66;03m# Ejecutar el algoritmo de búsqueda\u001b[39;00m\n\u001b[1;32m---> 33\u001b[0m solucion, soluciones_generadas, nodos_explorados, nodos_expandidos, coste, profundidad \u001b[38;5;241m=\u001b[39m profundidad\u001b[38;5;241m.\u001b[39mbuscar()\n\u001b[0;32m     35\u001b[0m \u001b[38;5;66;03m# Mostrar la solución y estadísticas\u001b[39;00m\n\u001b[0;32m     36\u001b[0m \u001b[38;5;28;01mif\u001b[39;00m solucion:\n",
      "File \u001b[1;32mc:\\Users\\valen\\OneDrive\\Escritorio\\-\\UNIVERSIDAD\\UCLM\\3º\\1er Cuatri\\Sistemas Inteligentes\\Prácticas\\practicas_Inteligengtes\\pr1_SSII\\Busqueda.py:168\u001b[0m, in \u001b[0;36mBusqueda_Profundidad.buscar\u001b[1;34m(self)\u001b[0m\n\u001b[0;32m    166\u001b[0m \u001b[38;5;28;01mdef\u001b[39;00m \u001b[38;5;21mbuscar\u001b[39m(\u001b[38;5;28mself\u001b[39m):\n\u001b[0;32m    167\u001b[0m     \u001b[38;5;28mself\u001b[39m\u001b[38;5;241m.\u001b[39mfrontera \u001b[38;5;241m=\u001b[39m PriorityQueue()\n\u001b[1;32m--> 168\u001b[0m     \u001b[38;5;28;01mreturn\u001b[39;00m \u001b[38;5;28msuper\u001b[39m()\u001b[38;5;241m.\u001b[39mbuscar()\n",
      "File \u001b[1;32mc:\\Users\\valen\\OneDrive\\Escritorio\\-\\UNIVERSIDAD\\UCLM\\3º\\1er Cuatri\\Sistemas Inteligentes\\Prácticas\\practicas_Inteligengtes\\pr1_SSII\\Busqueda.py:29\u001b[0m, in \u001b[0;36mBusqueda.buscar\u001b[1;34m(self)\u001b[0m\n\u001b[0;32m     27\u001b[0m \u001b[38;5;28;01mdef\u001b[39;00m \u001b[38;5;21mbuscar\u001b[39m(\u001b[38;5;28mself\u001b[39m):\n\u001b[0;32m     28\u001b[0m     nodo_inicial \u001b[38;5;241m=\u001b[39m Nodo(\u001b[38;5;28mself\u001b[39m\u001b[38;5;241m.\u001b[39mproblema\u001b[38;5;241m.\u001b[39mestado_inicial,problema\u001b[38;5;241m=\u001b[39m\u001b[38;5;28mself\u001b[39m\u001b[38;5;241m.\u001b[39mproblema)\n\u001b[1;32m---> 29\u001b[0m     \u001b[38;5;28mself\u001b[39m\u001b[38;5;241m.\u001b[39mfrontera \u001b[38;5;241m=\u001b[39m \u001b[38;5;28mself\u001b[39m\u001b[38;5;241m.\u001b[39minsertar_nodo(nodo_inicial, \u001b[38;5;28mself\u001b[39m\u001b[38;5;241m.\u001b[39mfrontera)\n\u001b[0;32m     31\u001b[0m     \u001b[38;5;28;01mwhile\u001b[39;00m \u001b[38;5;129;01mnot\u001b[39;00m \u001b[38;5;28mself\u001b[39m\u001b[38;5;241m.\u001b[39mes_vacio(\u001b[38;5;28mself\u001b[39m\u001b[38;5;241m.\u001b[39mfrontera): \u001b[38;5;66;03m#movido aqui y que salga del bucle\u001b[39;00m\n\u001b[0;32m     32\u001b[0m \n\u001b[0;32m     33\u001b[0m         \u001b[38;5;66;03m# Extraemos el primer nodo de la frontera\u001b[39;00m\n\u001b[0;32m     34\u001b[0m         nodo \u001b[38;5;241m=\u001b[39m \u001b[38;5;28mself\u001b[39m\u001b[38;5;241m.\u001b[39mextraer_nodo(\u001b[38;5;28mself\u001b[39m\u001b[38;5;241m.\u001b[39mfrontera)\n",
      "File \u001b[1;32mc:\\Users\\valen\\OneDrive\\Escritorio\\-\\UNIVERSIDAD\\UCLM\\3º\\1er Cuatri\\Sistemas Inteligentes\\Prácticas\\practicas_Inteligengtes\\pr1_SSII\\Busqueda.py:149\u001b[0m, in \u001b[0;36mBusqueda_Profundidad.insertar_nodo\u001b[1;34m(self, nodo, frontera)\u001b[0m\n\u001b[0;32m    148\u001b[0m \u001b[38;5;28;01mdef\u001b[39;00m \u001b[38;5;21minsertar_nodo\u001b[39m(\u001b[38;5;28mself\u001b[39m, nodo, frontera):\n\u001b[1;32m--> 149\u001b[0m     frontera\u001b[38;5;241m.\u001b[39mput((\u001b[38;5;28mself\u001b[39m\u001b[38;5;241m.\u001b[39mgetHeuristica(nodo), nodo))\n\u001b[0;32m    150\u001b[0m     \u001b[38;5;28;01mreturn\u001b[39;00m frontera\n",
      "File \u001b[1;32mc:\\Users\\valen\\OneDrive\\Escritorio\\-\\UNIVERSIDAD\\UCLM\\3º\\1er Cuatri\\Sistemas Inteligentes\\Prácticas\\practicas_Inteligengtes\\pr1_SSII\\Busqueda.py:145\u001b[0m, in \u001b[0;36mBusqueda_Profundidad.getHeuristica\u001b[1;34m(self, nodo)\u001b[0m\n\u001b[0;32m    144\u001b[0m \u001b[38;5;28;01mdef\u001b[39;00m \u001b[38;5;21mgetHeuristica\u001b[39m(\u001b[38;5;28mself\u001b[39m, nodo):\n\u001b[1;32m--> 145\u001b[0m     \u001b[38;5;28;01mreturn\u001b[39;00m (nodo\u001b[38;5;241m.\u001b[39mestado\u001b[38;5;241m.\u001b[39mdistancia_objetivo \u001b[38;5;241m/\u001b[39m nodo\u001b[38;5;241m.\u001b[39mestado\u001b[38;5;241m.\u001b[39mvelocidad_maxima)\n",
      "\u001b[1;31mAttributeError\u001b[0m: 'Estado' object has no attribute 'distancia_objetivo'"
     ]
    }
   ],
   "source": [
    "from Classes import *\n",
    "from Busqueda import *\n",
    "#Windows\n",
    "ruta_json = r'problems\\medium\\calle_mariÌa_mariÌn_500_0.json'\n",
    "#MacOs\n",
    "#ruta_json = r'pr1_SSII/problems/medium/calle_mariÌa_mariÌn_500_0.json'\n",
    "\n",
    "# Crear el objeto problema\n",
    "problema = Problema(ruta_json)\n",
    "\n",
    "anchura = Busqueda_Anchura(problema)\n",
    "\n",
    "# Ejecutar el algoritmo de búsqueda\n",
    "solucion, soluciones_generadas, nodos_explorados, nodos_expandidos, coste, profundidad = anchura.buscar()\n",
    "\n",
    "# Mostrar la solución y estadísticas\n",
    "if solucion:\n",
    "    print(\"Búsqueda en anchura \\nSolución encontrada:\", solucion)\n",
    "    print(\"Estadísticas:\")\n",
    "    print(f\"Número de soluciones generadas: {soluciones_generadas}\")\n",
    "    print(f\"Número de nodos explorados: {nodos_explorados}\")\n",
    "    print(f\"Número de nodos expandidos: {nodos_expandidos}\")\n",
    "    print(f\"Coste de la solución: {coste}\")\n",
    "    print(f\"Profundidad de la solución: {profundidad}\")\n",
    "else:\n",
    "    print(\"No se encontró solución.\")\n",
    "\n",
    "print(\"\\n ------------------------- \\n\")\n",
    "\n",
    "profundidad = Busqueda_Profundidad(problema)\n",
    "\n",
    "# Ejecutar el algoritmo de búsqueda\n",
    "solucion, soluciones_generadas, nodos_explorados, nodos_expandidos, coste, profundidad = profundidad.buscar()\n",
    "\n",
    "# Mostrar la solución y estadísticas\n",
    "if solucion:\n",
    "    print(\"Búsqueda en profundidad \\nSolución encontrada:\", solucion)\n",
    "    print(\"Estadísticas:\")\n",
    "    print(f\"Número de soluciones generadas: {soluciones_generadas}\")\n",
    "    print(f\"Número de nodos explorados: {nodos_explorados}\")\n",
    "    print(f\"Número de nodos expandidos: {nodos_expandidos}\")\n",
    "    print(f\"Coste de la solución: {coste}\")\n",
    "    print(f\"Profundidad de la solución: {profundidad}\")\n",
    "else:\n",
    "    print(\"No se encontró solución.\")\n",
    "\n",
    "print(\"\\n ------------------------- \\n\")\n",
    "\n",
    "primero_mejor = Busqueda_Primero_Mejor(problema)\n",
    "\n",
    "# Ejecutar el algoritmo de búsqueda\n",
    "solucion, soluciones_generadas, nodos_explorados, nodos_expandidos, coste, profundidad = primero_mejor.buscar()\n",
    "\n",
    "# Mostrar la solución y estadísticas\n",
    "if solucion:\n",
    "    \n",
    "    print(\"Búsqueda en profundidad \\nSolución encontrada:\", solucion)\n",
    "    print(\"Estadísticas:\")\n",
    "    print(f\"Número de soluciones generadas: {soluciones_generadas}\")\n",
    "    print(f\"Número de nodos explorados: {nodos_explorados}\")\n",
    "    print(f\"Número de nodos expandidos: {nodos_expandidos}\")\n",
    "    print(f\"Coste de la solución: {coste}\")\n",
    "    print(f\"Profundidad de la solución: {profundidad}\")\n",
    "else:\n",
    "    print(\"No se encontró solución.\")"
   ]
  },
  {
   "cell_type": "markdown",
   "metadata": {},
   "source": []
  }
 ],
 "metadata": {
  "kernelspec": {
   "display_name": "base",
   "language": "python",
   "name": "python3"
  },
  "language_info": {
   "codemirror_mode": {
    "name": "ipython",
    "version": 3
   },
   "file_extension": ".py",
   "mimetype": "text/x-python",
   "name": "python",
   "nbconvert_exporter": "python",
   "pygments_lexer": "ipython3",
   "version": "3.12.4"
  }
 },
 "nbformat": 4,
 "nbformat_minor": 2
}
