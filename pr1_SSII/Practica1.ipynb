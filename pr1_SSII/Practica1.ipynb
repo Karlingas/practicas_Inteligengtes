{
 "cells": [
  {
   "cell_type": "markdown",
   "metadata": {},
   "source": [
    "# Sistemas Inteligentes\n",
    "\n",
    "## Practica 1: Búsqueda en espacio de estados"
   ]
  },
  {
   "cell_type": "markdown",
   "metadata": {},
   "source": [
    "### Declaracion e implementacion de clases necesarias"
   ]
  },
  {
   "cell_type": "code",
   "execution_count": 2,
   "metadata": {},
   "outputs": [
    {
     "ename": "IndentationError",
     "evalue": "unindent does not match any outer indentation level (<string>, line 5)",
     "output_type": "error",
     "traceback": [
      "\u001b[1;36m  File \u001b[1;32m<string>:5\u001b[1;36m\u001b[0m\n\u001b[1;33m    def __eq__(self, other):\u001b[0m\n\u001b[1;37m                            ^\u001b[0m\n\u001b[1;31mIndentationError\u001b[0m\u001b[1;31m:\u001b[0m unindent does not match any outer indentation level\n"
     ]
    }
   ],
   "source": [
    "\n",
    "class Estado:\n",
    "    def __init__(self, valor):\n",
    "          self.valor = valor\n",
    "\n",
    "     def __eq__(self, other):\n",
    "        return isinstance(other, Estado) and self.valor == other.valor\n",
    "\n",
    "     def __hash__(self):\n",
    "        return hash(self.valor)\n",
    "\n",
    "class Accion:\n",
    "    def __init__(self, descripcion):\n",
    "        self.descripcion = descripcion\n",
    "\n",
    "class Nodo:\n",
    "    def __init__(self, estado, padre=None, accion=None):\n",
    "        self.estado = estado\n",
    "        self.padre = padre\n",
    "        self.accion = accion\n",
    "\n",
    "    def hijo(self, accion):\n",
    "        nuevo_estado = self.estado.resultado(accion)\n",
    "        return Nodo(nuevo_estado, self, accion)\n",
    "\n",
    "    def solucion(self):\n",
    "        acciones = []\n",
    "        nodo = self\n",
    "        while nodo.padre is not None:\n",
    "            acciones.append(nodo.accion)\n",
    "            nodo = nodo.padre\n",
    "        acciones.reverse()\n",
    "        return acciones\n",
    "\n",
    "class Problema:\n",
    "    def __init__(self, estado_inicial, estado_objetivo):\n",
    "        self.estado_inicial = estado_inicial\n",
    "        self.estado_objetivo = estado_objetivo\n",
    "\n",
    "    def es_objetivo(self, estado):\n",
    "        return estado == self.estado_objetivo\n",
    "\n",
    "    def acciones(self, estado):\n",
    "        raise NotImplementedError\n",
    "\n",
    "    def resultado(self, estado, accion):\n",
    "        raise NotImplementedError\n",
    "    "
   ]
  },
  {
   "cell_type": "markdown",
   "metadata": {},
   "source": [
    "### 1: Estrategia de búsqueda no informada"
   ]
  },
  {
   "cell_type": "markdown",
   "metadata": {},
   "source": [
    "#### 1.1: Búsqueda primero en anchura"
   ]
  },
  {
   "cell_type": "code",
   "execution_count": 4,
   "metadata": {},
   "outputs": [],
   "source": [
    "def busqueda_en_arbol(problema, frontera):\n",
    "    # Insertar el nodo inicial en la frontera\n",
    "    nodo_inicial = Nodo(problema.estado_inicial)\n",
    "    frontera.append(nodo_inicial)\n",
    "\n",
    "    while True:\n",
    "        # Si la frontera está vacía, devolver FALLO\n",
    "        if not frontera:\n",
    "            return None\n",
    "        \n",
    "        # Borrar el primer nodo de la frontera\n",
    "        nodo = frontera.pop(0)\n",
    "        \n",
    "        # Si el nodo contiene un estado objetivo, devolver la solución\n",
    "        if problema.es_objetivo(nodo.estado):\n",
    "            return nodo.solucion()\n",
    "        \n",
    "        # Expandir el nodo y añadir los hijos a la frontera\n",
    "        for accion in problema.acciones(nodo.estado):\n",
    "            hijo = nodo.hijo(accion)\n",
    "            frontera.append(hijo)"
   ]
  },
  {
   "cell_type": "code",
   "execution_count": 5,
   "metadata": {},
   "outputs": [],
   "source": [
    "def expandir(nodo, problema):\n",
    "    sucesores = []\n",
    "    for accion in problema.acciones(nodo.estado):\n",
    "        resultado = problema.resultado(nodo.estado, accion)\n",
    "        s = Nodo(resultado, nodo, accion)\n",
    "        s.coste = nodo.coste + problema.coste_individual(nodo, accion, s)\n",
    "        s.profundidad = nodo.profundidad + 1\n",
    "        sucesores.append(s)\n",
    "    return sucesores"
   ]
  },
  {
   "cell_type": "code",
   "execution_count": null,
   "metadata": {},
   "outputs": [],
   "source": []
  }
 ],
 "metadata": {
  "kernelspec": {
   "display_name": "base",
   "language": "python",
   "name": "python3"
  },
  "language_info": {
   "codemirror_mode": {
    "name": "ipython",
    "version": 3
   },
   "file_extension": ".py",
   "mimetype": "text/x-python",
   "name": "python",
   "nbconvert_exporter": "python",
   "pygments_lexer": "ipython3",
   "version": "3.12.4"
  }
 },
 "nbformat": 4,
 "nbformat_minor": 2
}
