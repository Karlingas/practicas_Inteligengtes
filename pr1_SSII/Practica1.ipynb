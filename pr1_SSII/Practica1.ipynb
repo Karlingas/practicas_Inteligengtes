{
 "cells": [
  {
   "cell_type": "markdown",
   "metadata": {},
   "source": [
    "# Sistemas Inteligentes\n",
    "\n",
    "## Practica 1: Búsqueda en espacio de estados"
   ]
  },
  {
   "cell_type": "markdown",
   "metadata": {},
   "source": [
    "### Declaracion e implementacion de clases necesarias"
   ]
  },
  {
   "cell_type": "code",
   "execution_count": null,
   "metadata": {},
   "outputs": [],
   "source": [
    "\n",
    "class Estado:\n",
    "    def __init__(self, valor):\n",
    "          self.valor = valor\n",
    "\n",
    "     def __eq__(self, other):\n",
    "        return isinstance(other, Estado) and self.valor == other.valor\n",
    "\n",
    "     def __hash__(self):\n",
    "        return hash(self.valor)\n",
    "\n",
    "class Accion:\n",
    "    def __init__(self, descripcion):\n",
    "        self.descripcion = descripcion\n",
    "\n",
    "class Nodo:\n",
    "    def __init__(self, estado, padre=None, accion=None):\n",
    "        self.estado = estado\n",
    "        self.padre = padre\n",
    "        self.accion = accion\n",
    "\n",
    "    def hijo(self, accion):\n",
    "        nuevo_estado = self.estado.resultado(accion)\n",
    "        return Nodo(nuevo_estado, self, accion)\n",
    "\n",
    "    def solucion(self):\n",
    "        acciones = []\n",
    "        nodo = self\n",
    "        while nodo.padre is not None:\n",
    "            acciones.append(nodo.accion)\n",
    "            nodo = nodo.padre\n",
    "        acciones.reverse()\n",
    "        return acciones\n",
    "\n",
    "class Problema:\n",
    "    def __init__(self, estado_inicial, estado_objetivo):\n",
    "        self.estado_inicial = estado_inicial\n",
    "        self.estado_objetivo = estado_objetivo\n",
    "\n",
    "    def es_objetivo(self, estado):\n",
    "        return estado == self.estado_objetivo\n",
    "\n",
    "    def acciones(self, estado):\n",
    "        raise NotImplementedError\n",
    "\n",
    "    def resultado(self, estado, accion):\n",
    "        raise NotImplementedError\n",
    "    "
   ]
  },
  {
   "cell_type": "markdown",
   "metadata": {},
   "source": [
    "### 1: Estrategia de búsqueda no informada"
   ]
  },
  {
   "cell_type": "markdown",
   "metadata": {},
   "source": [
    "#### 1.1: Búsqueda primero en anchura"
   ]
  },
  {
   "cell_type": "code",
   "execution_count": null,
   "metadata": {},
   "outputs": [],
   "source": [
    "def busqueda_primero_en_anchura(problema):\n",
    "    # Inicializar la frontera con el nodo inicial\n",
    "    nodo_inicial = Nodo(problema.estado_inicial)\n",
    "    if problema.es_objetivo(nodo_inicial.estado):\n",
    "        return nodo_inicial.solucion()\n",
    "    \n",
    "    frontera = [nodo_inicial]\n",
    "    explorados = set()\n",
    "\n",
    "    while frontera:\n",
    "        nodo = frontera.pop(0)\n",
    "        explorados.add(nodo.estado)\n",
    "\n",
    "        for accion in problema.acciones(nodo.estado):\n",
    "            hijo = nodo.hijo(accion)\n",
    "            if hijo.estado not in explorados and hijo not in frontera:\n",
    "                if problema.es_objetivo(hijo.estado):\n",
    "                    return hijo.solucion()\n",
    "                frontera.append(hijo)\n",
    "    \n",
    "    return None\n"
   ]
  }
 ],
 "metadata": {
  "language_info": {
   "name": "python"
  }
 },
 "nbformat": 4,
 "nbformat_minor": 2
}
