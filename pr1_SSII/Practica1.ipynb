{
 "cells": [
  {
   "cell_type": "markdown",
   "metadata": {},
   "source": [
    "# Sistemas Inteligentes\n",
    "\n",
    "## Practica 1: Búsqueda en espacio de estados"
   ]
  },
  {
   "cell_type": "markdown",
   "metadata": {},
   "source": [
    "# Estructura"
   ]
  },
  {
   "cell_type": "markdown",
   "metadata": {},
   "source": [
    "## Clases\n",
    "\n"
   ]
  },
  {
   "cell_type": "markdown",
   "metadata": {},
   "source": [
    "### Acción\n",
    "Clase Acción que representa que es lo que ha de ser hecho, en este caso el origen, el destino y el coste entre estos.\n",
    "\n",
    "\n"
   ]
  },
  {
   "cell_type": "markdown",
   "metadata": {},
   "source": [
    "### Estado\n",
    "Clase estado que contiene el estado del problema, que en este caso es la interseccion donde estamos + el id\n"
   ]
  },
  {
   "cell_type": "markdown",
   "metadata": {},
   "source": [
    "### Nodo\n",
    "Clase que representa un nodo dentro del grafo a resolver. Este contiene un estado, un padre, una accion y su profundidad en el grafo.\n"
   ]
  },
  {
   "cell_type": "markdown",
   "metadata": {},
   "source": [
    "### Problema\n",
    "Clase que representa el problema a resolver, contiene la informacion del JSON y \n"
   ]
  },
  {
   "cell_type": "markdown",
   "metadata": {},
   "source": [
    "### Busqueda\n",
    "Clase abstracta que contiene el bucle basico que usan todos los metodos de busqueda,"
   ]
  },
  {
   "cell_type": "markdown",
   "metadata": {},
   "source": [
    "### 1: Estrategia de búsqueda no informada"
   ]
  },
  {
   "cell_type": "markdown",
   "metadata": {},
   "source": [
    "#### 1.1: Búsqueda primero en anchura"
   ]
  },
  {
   "cell_type": "code",
   "execution_count": 18,
   "metadata": {},
   "outputs": [
    {
     "name": "stdout",
     "output_type": "stream",
     "text": [
      "Búsqueda en anchura \n",
      "Solución encontrada: [1526728362, 1526728364, 1568067925, 1529201982, 1529623313, 499274675, 1573048065, 6296438171, 621983933, 1256026663, 1983117780, 1528823328, 1984210179, 672063711, 1845484937, 1322980461]\n",
      "Estadísticas:\n",
      "Número de soluciones generadas: 281\n",
      "Número de nodos explorados: 260\n",
      "Número de nodos expandidos: 281\n",
      "Coste de la solución: 937.2280000000002\n",
      "Profundidad de la solución: 16\n",
      "\n",
      " ------------------------- \n",
      "\n",
      "Búsqueda en profundidad \n",
      "Solución encontrada: [1526728362, 1526728364, 1568067925, 1529201982, 1526728370, 1529623352, 1526728367, 1526728361, 1266037418, 1526728391, 1266037419, 957150995, 1266037414, 499274652, 499274675, 1573048065, 6296438171, 621983933, 1256026663, 1256026700, 6296438172, 1573048063, 1573048095, 1540598147, 1528823390, 1528823380, 1266037410, 1528823322, 1526705395, 344736241, 335606024, 4582722295, 1531659768, 1526705382, 1529202023, 434014584, 1528823325, 1628459226, 1528823328, 1528823330, 1788243280, 1322977380, 1255547644, 1256026671, 1255547629, 672063712, 1845484942, 1255547622, 1256026634, 1255547641, 1255547642, 1845484937, 1322980461]\n",
      "Estadísticas:\n",
      "Número de soluciones generadas: 111\n",
      "Número de nodos explorados: 69\n",
      "Número de nodos expandidos: 111\n",
      "Coste de la solución: 3722.543000000002\n",
      "Profundidad de la solución: 53\n"
     ]
    }
   ],
   "source": [
    "from Classes import *\n",
    "from Busqueda import *\n",
    "#Windows\n",
    "ruta_json = r'problems\\medium\\calle_mariÌa_mariÌn_500_0.json'\n",
    "#MacOs\n",
    "#ruta_json = r'pr1_SSII/problems/medium/calle_mariÌa_mariÌn_500_0.json'\n",
    "\n",
    "# Crear el objeto problema\n",
    "problema = Problema(ruta_json)\n",
    "\n",
    "anchura = Busqueda_Anchura(problema)\n",
    "\n",
    "# Ejecutar el algoritmo de búsqueda\n",
    "solucion, soluciones_generadas, nodos_explorados, nodos_expandidos, coste, profundidad = anchura.buscar()\n",
    "\n",
    "# Mostrar la solución y estadísticas\n",
    "if solucion:\n",
    "    print(\"Búsqueda en anchura \\nSolución encontrada:\", solucion)\n",
    "    print(\"Estadísticas:\")\n",
    "    print(f\"Número de soluciones generadas: {soluciones_generadas}\")\n",
    "    print(f\"Número de nodos explorados: {nodos_explorados}\")\n",
    "    print(f\"Número de nodos expandidos: {nodos_expandidos}\")\n",
    "    print(f\"Coste de la solución: {coste}\")\n",
    "    print(f\"Profundidad de la solución: {profundidad}\")\n",
    "else:\n",
    "    print(\"No se encontró solución.\")\n",
    "\n",
    "print(\"\\n ------------------------- \\n\")\n",
    "\n",
    "profundidad = Busqueda_Profundidad(problema)\n",
    "\n",
    "# Ejecutar el algoritmo de búsqueda\n",
    "solucion, soluciones_generadas, nodos_explorados, nodos_expandidos, coste, profundidad = profundidad.buscar()\n",
    "\n",
    "# Mostrar la solución y estadísticas\n",
    "if solucion:\n",
    "    print(\"Búsqueda en profundidad \\nSolución encontrada:\", solucion)\n",
    "    print(\"Estadísticas:\")\n",
    "    print(f\"Número de soluciones generadas: {soluciones_generadas}\")\n",
    "    print(f\"Número de nodos explorados: {nodos_explorados}\")\n",
    "    print(f\"Número de nodos expandidos: {nodos_expandidos}\")\n",
    "    print(f\"Coste de la solución: {coste}\")\n",
    "    print(f\"Profundidad de la solución: {profundidad}\")\n",
    "else:\n",
    "    print(\"No se encontró solución.\")"
   ]
  },
  {
   "cell_type": "markdown",
   "metadata": {},
   "source": []
  }
 ],
 "metadata": {
  "kernelspec": {
   "display_name": "base",
   "language": "python",
   "name": "python3"
  },
  "language_info": {
   "codemirror_mode": {
    "name": "ipython",
    "version": 3
   },
   "file_extension": ".py",
   "mimetype": "text/x-python",
   "name": "python",
   "nbconvert_exporter": "python",
   "pygments_lexer": "ipython3",
   "version": "3.12.4"
  }
 },
 "nbformat": 4,
 "nbformat_minor": 2
}
