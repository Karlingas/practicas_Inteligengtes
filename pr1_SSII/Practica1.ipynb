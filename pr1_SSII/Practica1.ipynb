{
 "cells": [
  {
   "cell_type": "markdown",
   "metadata": {},
   "source": [
    "# Sistemas Inteligentes\n",
    "\n",
    "## Practica 1: Búsqueda en espacio de estados"
   ]
  },
  {
   "cell_type": "markdown",
   "metadata": {},
   "source": [
    "# Estructura"
   ]
  },
  {
   "cell_type": "markdown",
   "metadata": {},
   "source": [
    "## Clases\n",
    "\n"
   ]
  },
  {
   "cell_type": "markdown",
   "metadata": {},
   "source": [
    "### Acción\n",
    "Clase Acción que representa que es lo que ha de ser hecho, en este caso el origen, el destino y el coste entre estos.\n",
    "\n",
    "\n"
   ]
  },
  {
   "cell_type": "markdown",
   "metadata": {},
   "source": [
    "### Estado\n",
    "Clase estado que contiene el estado del problema, que en este caso es la interseccion donde estamos + el id\n"
   ]
  },
  {
   "cell_type": "markdown",
   "metadata": {},
   "source": [
    "### Nodo\n",
    "Clase que representa un nodo dentro del grafo a resolver. Este contiene un estado, un padre, una accion y su profundidad en el grafo.\n"
   ]
  },
  {
   "cell_type": "markdown",
   "metadata": {},
   "source": [
    "### Problema\n",
    "Clase que representa el problema a resolver, contiene la informacion del JSON y \n"
   ]
  },
  {
   "cell_type": "markdown",
   "metadata": {},
   "source": [
    "### Busqueda\n",
    "Clase abstracta que contiene el bucle basico que usan todos los metodos de busqueda,"
   ]
  },
  {
   "cell_type": "markdown",
   "metadata": {},
   "source": [
    "### 1: Estrategia de búsqueda no informada"
   ]
  },
  {
   "cell_type": "markdown",
   "metadata": {},
   "source": [
    "#### 1.1: Búsqueda primero en anchura"
   ]
  },
  {
   "cell_type": "code",
   "execution_count": 1,
   "metadata": {},
   "outputs": [
    {
     "name": "stdout",
     "output_type": "stream",
     "text": [
      "Búsqueda en anchura \n",
      "Solución encontrada: [1972379585, 434371968, 434371969, 1429067873, 434369338, 1253952548, 1255486890, 621983937]\n",
      "Estadísticas:\n",
      "Número de soluciones generadas: 148\n",
      "Número de nodos explorados: 116\n",
      "Número de nodos expandidos: 148\n",
      "Coste de la solución: 717.483\n",
      "Profundidad de la solución: 8\n",
      "\n",
      " ------------------------- \n",
      "\n",
      "Búsqueda en profundidad \n",
      "Solución encontrada: [434371974, 1574616277, 1262223924, 1529570464, 1529477979, 1262223926, 1529570518, 1262223929, 1262223927, 1529570530, 1307889214, 1529477889, 1529478001, 1618101327, 1529477859, 1529477861, 1529477863, 1529570534, 672689819, 1255528484, 1529477829, 1255528464, 1255528489, 1534218793, 1534218779, 435465423, 1837752577, 435465418, 1529776748, 434371973, 434371970, 1429067873, 434369338, 1529776631, 1529776595, 1529477570, 1255486886, 2736548951, 1636580984, 1255528462, 1529623315, 1529623340, 1255547640, 1557279034, 1255547631, 1255547628, 1736133420, 1528823342, 1529197051, 1255547652, 1255547642, 1845484937, 1322980461, 672063300, 1530705020, 1528823288, 672063299, 1736133421, 672060821, 1255547648, 1255547637, 1528823384, 1560699116, 335607946, 335607951, 1991099510, 1255499536, 1530201922, 2736548945, 1736087418, 621979256, 1530201981, 621979267, 621979263, 1256004134, 1736087420, 1580652280, 1255528477, 1636580982, 1530201964, 1991916949, 1530201967, 1530201918, 1554778988, 1256602813, 335607954, 1530201957, 1572439161, 552477911, 1529197040, 1736073021, 1589636200, 1526705357, 4575714122, 335607940, 333719887, 1529202047, 1540555108, 335606021, 335606026, 335606025, 539837920, 1530704637, 1530897562, 1530897531, 1530897746, 1526752631, 1736073029, 551594208, 2221740256, 1835353351, 1835353386, 1635557952, 1736073025, 1530897650, 1562200802, 1528823253, 1530897652, 1529202095, 1628459221, 1992568962, 1992568957, 551594177, 1835353332, 1526108366, 1364816985, 1526108371, 1528672002, 1528672003, 552477909, 552477910, 1835353382, 1572439170, 1554807109, 1554807205, 1572435249, 1574598070, 1572435255, 1554807113, 1526105986, 1526106002, 1526105938, 1572435245, 1554807214, 1572435237, 1526105984, 1557262702, 1526105997, 1526105942, 1526105943, 1526106005, 1526105951, 1565088794, 1530897460, 1530897532, 1863967061, 1527972843, 1528822986, 1528822987, 1554813465, 335720315, 1528822981, 1530897844, 550376458, 550376452, 1530897624, 550376456, 1530897682, 1574608089, 1574608082, 1560897869, 1991970573, 550378434, 1530209339, 335720312, 335607957, 335607958, 335893163, 1560897811, 1560897852, 1255504854, 1535642894, 1255528468, 1253952548, 1255486890, 621983937]\n",
      "Estadísticas:\n",
      "Número de soluciones generadas: 819\n",
      "Número de nodos explorados: 688\n",
      "Número de nodos expandidos: 819\n",
      "Coste de la solución: 11715.71500000001\n",
      "Profundidad de la solución: 186\n",
      "\n",
      " ------------------------- \n",
      "\n",
      "Búsqueda primero mejor \n",
      "Solución encontrada: [1972379585, 434371968, 434371969, 1429067873, 434369338, 1253952548, 1255486890, 621983937]\n",
      "Estadísticas:\n",
      "Número de soluciones generadas: 17\n",
      "Número de nodos explorados: 9\n",
      "Número de nodos expandidos: 17\n",
      "Coste de la solución: 717.483\n",
      "Profundidad de la solución: 8\n"
     ]
    }
   ],
   "source": [
    "from Classes import *\n",
    "from Busqueda import *\n",
    "#Windows\n",
    "ruta_json = r'examples_with_solutions\\problems\\large\\calle_agustina_aroca_albacete_1000_2.json'\n",
    "#MacOs\n",
    "#ruta_json = r'pr1_SSII/problems/medium/calle_mariÌa_mariÌn_500_0.json'\n",
    "\n",
    "# Crear el objeto problema\n",
    "problema = Problema(ruta_json)\n",
    "\n",
    "anchura = Busqueda_Anchura(problema)\n",
    "\n",
    "# Ejecutar el algoritmo de búsqueda\n",
    "solucion, soluciones_generadas, nodos_explorados, nodos_expandidos, coste, profundidad = anchura.buscar()\n",
    "\n",
    "# Mostrar la solución y estadísticas\n",
    "if solucion:\n",
    "    print(\"Búsqueda en anchura \\nSolución encontrada:\", solucion)\n",
    "    print(\"Estadísticas:\")\n",
    "    print(f\"Número de soluciones generadas: {soluciones_generadas}\")\n",
    "    print(f\"Número de nodos explorados: {nodos_explorados}\")\n",
    "    print(f\"Número de nodos expandidos: {nodos_expandidos}\")\n",
    "    print(f\"Coste de la solución: {coste}\")\n",
    "    print(f\"Profundidad de la solución: {profundidad}\")\n",
    "else:\n",
    "    print(\"No se encontró solución.\")\n",
    "\n",
    "print(\"\\n ------------------------- \\n\")\n",
    "\n",
    "profundidad = Busqueda_Profundidad(problema)\n",
    "\n",
    "# Ejecutar el algoritmo de búsqueda\n",
    "solucion, soluciones_generadas, nodos_explorados, nodos_expandidos, coste, profundidad = profundidad.buscar()\n",
    "\n",
    "# Mostrar la solución y estadísticas\n",
    "if solucion:\n",
    "    print(\"Búsqueda en profundidad \\nSolución encontrada:\", solucion)\n",
    "    print(\"Estadísticas:\")\n",
    "    print(f\"Número de soluciones generadas: {soluciones_generadas}\")\n",
    "    print(f\"Número de nodos explorados: {nodos_explorados}\")\n",
    "    print(f\"Número de nodos expandidos: {nodos_expandidos}\")\n",
    "    print(f\"Coste de la solución: {coste}\")\n",
    "    print(f\"Profundidad de la solución: {profundidad}\")\n",
    "else:\n",
    "    print(\"No se encontró solución.\")\n",
    "\n",
    "print(\"\\n ------------------------- \\n\")\n",
    "\n",
    "primero_mejor = Busqueda_Primero_Mejor(problema)\n",
    "\n",
    "# Ejecutar el algoritmo de búsqueda\n",
    "solucion, soluciones_generadas, nodos_explorados, nodos_expandidos, coste, profundidad = primero_mejor.buscar()\n",
    "\n",
    "# Mostrar la solución y estadísticas\n",
    "if solucion:\n",
    "    print(\"Búsqueda primero mejor \\nSolución encontrada:\", solucion)\n",
    "    print(\"Estadísticas:\")\n",
    "    print(f\"Número de soluciones generadas: {soluciones_generadas}\")\n",
    "    print(f\"Número de nodos explorados: {nodos_explorados}\")\n",
    "    print(f\"Número de nodos expandidos: {nodos_expandidos}\")\n",
    "    print(f\"Coste de la solución: {coste}\")\n",
    "    print(f\"Profundidad de la solución: {profundidad}\")\n",
    "else:\n",
    "    print(\"No se encontró solución.\")"
   ]
  },
  {
   "cell_type": "markdown",
   "metadata": {},
   "source": []
  }
 ],
 "metadata": {
  "kernelspec": {
   "display_name": "base",
   "language": "python",
   "name": "python3"
  },
  "language_info": {
   "codemirror_mode": {
    "name": "ipython",
    "version": 3
   },
   "file_extension": ".py",
   "mimetype": "text/x-python",
   "name": "python",
   "nbconvert_exporter": "python",
   "pygments_lexer": "ipython3",
   "version": "3.12.4"
  }
 },
 "nbformat": 4,
 "nbformat_minor": 2
}
