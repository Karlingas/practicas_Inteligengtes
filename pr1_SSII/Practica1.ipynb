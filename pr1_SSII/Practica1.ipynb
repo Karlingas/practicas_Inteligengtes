{
 "cells": [
  {
   "cell_type": "markdown",
   "metadata": {},
   "source": [
    "# Sistemas Inteligentes\n",
    "\n",
    "## Practica 1: Búsqueda en espacio de estados"
   ]
  },
  {
   "cell_type": "markdown",
   "metadata": {},
   "source": [
    "### 1: Estrategia de búsqueda no informada"
   ]
  },
  {
   "cell_type": "markdown",
   "metadata": {},
   "source": [
    "#### 1.1: Búsqueda primero en anchura"
   ]
  },
  {
   "cell_type": "code",
   "execution_count": 23,
   "metadata": {},
   "outputs": [],
   "source": [
    "def busqueda_en_arbol(problema):\n",
    "    frontera = []\n",
    "    nodo_inicial = Nodo(problema.estado_inicial)\n",
    "    frontera.append(nodo_inicial)\n",
    "\n",
    "    # Estadísticas\n",
    "    soluciones_generadas = 0\n",
    "    nodos_explorados = 0\n",
    "    nodos_expandidos = 0\n",
    "\n",
    "    while True:\n",
    "        # Si la frontera está vacía, devolver FALLO\n",
    "        if not frontera:\n",
    "            return None, soluciones_generadas, nodos_explorados, nodos_expandidos, None, None\n",
    "        \n",
    "        # Borrar el primer nodo de la frontera\n",
    "        nodo = frontera.pop(0)\n",
    "        nodos_explorados += 1\n",
    "        \n",
    "        # Si el nodo contiene un estado objetivo, devolver la solución\n",
    "        if problema.es_objetivo(nodo.estado):\n",
    "            coste = nodo.coste\n",
    "            profundidad = nodo.profundidad\n",
    "            return nodo.solucion(), soluciones_generadas, nodos_explorados, nodos_expandidos, coste, profundidad\n",
    "        \n",
    "        # Expandir el nodo y añadir los hijos a la frontera\n",
    "        sucesores = expandir(nodo, problema)\n",
    "        nodos_expandidos += len(sucesores)\n",
    "        frontera.extend(sucesores)\n",
    "\n",
    "        # Contar las soluciones generadas\n",
    "        soluciones_generadas += len(sucesores)\n",
    "\n",
    "def expandir(nodo, problema):\n",
    "    sucesores = []\n",
    "    for accion in problema.acciones(nodo.estado):\n",
    "        resultado = problema.resultado(nodo.estado, accion)\n",
    "        s = Nodo(resultado, nodo, accion)\n",
    "        s.coste = nodo.coste + problema.coste_individual(nodo, accion, s)\n",
    "        s.profundidad = nodo.profundidad + 1\n",
    "        sucesores.append(s)\n",
    "    return sucesores"
   ]
  },
  {
   "cell_type": "code",
   "execution_count": 24,
   "metadata": {},
   "outputs": [
    {
     "name": "stdout",
     "output_type": "stream",
     "text": [
      "Solución encontrada: [1526728362, 1526728364, 1568067925, 1529201982, 1529623313, 499274675, 1573048065, 6296438171, 621983933, 1256026663, 1983117780, 1528823328, 1984210179, 672063711, 1845484937, 1322980461]\n",
      "Estadísticas:\n",
      "Número de soluciones generadas: 533975\n",
      "Número de nodos explorados: 194945\n",
      "Número de nodos expandidos: 533975\n",
      "Coste de la solución: 937.2280000000002\n",
      "Profundidad de la solución: 16\n"
     ]
    }
   ],
   "source": [
    "# Primero, importar las clases desde el archivo Classes.ipynb\n",
    "import json;\n",
    "ruta_archivo = r'problems\\medium\\calle_mariÌa_mariÌn_500_0.json'\n",
    "# Función para leer el archivo JSON\n",
    "def cargar_json(ruta_archivo):\n",
    "    with open(ruta_archivo, 'r') as archivo:\n",
    "        datos = json.load(archivo)\n",
    "    return datos\n",
    "\n",
    "# Cargar datos JSON\n",
    "datos_json = cargar_json(ruta_archivo)\n",
    "\n",
    "# Crear el objeto problema\n",
    "problema = Problema(datos_json)\n",
    "\n",
    "# Ejecutar el algoritmo de búsqueda\n",
    "solucion, soluciones_generadas, nodos_explorados, nodos_expandidos, coste, profundidad = busqueda_en_arbol(problema)\n",
    "\n",
    "# Mostrar la solución y estadísticas\n",
    "if solucion:\n",
    "    print(\"Solución encontrada:\", solucion)\n",
    "    print(\"Estadísticas:\")\n",
    "    print(f\"Número de soluciones generadas: {soluciones_generadas}\")\n",
    "    print(f\"Número de nodos explorados: {nodos_explorados}\")\n",
    "    print(f\"Número de nodos expandidos: {nodos_expandidos}\")\n",
    "    print(f\"Coste de la solución: {coste}\")\n",
    "    print(f\"Profundidad de la solución: {profundidad}\")\n",
    "else:\n",
    "    print(\"No se encontró solución.\")"
   ]
  },
  {
   "cell_type": "code",
   "execution_count": null,
   "metadata": {},
   "outputs": [],
   "source": []
  }
 ],
 "metadata": {
  "kernelspec": {
   "display_name": "base",
   "language": "python",
   "name": "python3"
  },
  "language_info": {
   "codemirror_mode": {
    "name": "ipython",
    "version": 3
   },
   "file_extension": ".py",
   "mimetype": "text/x-python",
   "name": "python",
   "nbconvert_exporter": "python",
   "pygments_lexer": "ipython3",
   "version": "3.12.4"
  }
 },
 "nbformat": 4,
 "nbformat_minor": 2
}
