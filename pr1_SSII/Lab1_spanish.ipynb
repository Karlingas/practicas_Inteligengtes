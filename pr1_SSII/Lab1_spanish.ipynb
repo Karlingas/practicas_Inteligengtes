{
 "cells": [
  {
   "cell_type": "markdown",
   "metadata": {},
   "source": [
    "# Sistemas Inteligentes\n",
    "\n",
    "## Curso académico 2024-2025\n",
    "\n",
    "### Práctica 1: Búsqueda en espacio de estados\n",
    "\n",
    "#### Profesores\n",
    "\n",
    "* Juan Carlos Alfaro Jiménez: JuanCarlos.Alfaro@uclm.es\n",
    "* María Julia Flores Gallego: Julia.Flores@uclm.es\n",
    "* Ismael García Varea: Ismael.Garcia@uclm.es\n",
    "* Adrián Rodríguez López: Adrian.Rodriguez18@alu.uclm.es"
   ]
  },
  {
   "cell_type": "markdown",
   "metadata": {
    "datalore": {
     "hide_input_from_viewers": false,
     "hide_output_from_viewers": false,
     "node_id": "BJiz7lonyeROocVlcYrKWu",
     "type": "MD"
    }
   },
   "source": [
    "## ¡Conducción autónoma!"
   ]
  },
  {
   "cell_type": "markdown",
   "metadata": {
    "datalore": {
     "hide_input_from_viewers": false,
     "hide_output_from_viewers": false,
     "node_id": "BJiz7lonyeROocVlcYrKWu",
     "type": "MD"
    }
   },
   "source": [
    "## 1. Introducción\n",
    "\n",
    "En el marco de un proyecto piloto del **Ministerio de Transportes y Movilidad Sostenible**, cuyo objetivo es proporcionar un servicio de desplazamiento urbano personalizado para personas con movilidad reducida, se nos ha encargado el estudio del despliegue de una flota de vehículos autónomos en diferentes localidades y ciudades del país en función de una serie de indicadores (tamaño de la población, densidad de población, demanda del servicio, etc.). Dichos vehículos autónomos deberán disponer de un sistema de conducción inteligente que permita a dichos vehículos llevar a una serie de personas desde un punto de origen hasta su destino de manera segura y eficiente.\n",
    "\n",
    "Dentro del proyecto, **por el momento, se nos pide diseñar un algoritmo que sea capaz de optimizar el transporte a una persona desde un lugar de origen a un destino específico** dentro de una ciudad. En este escenario, el vehículo autónomo deberá navegar por una red de calles e intersecciones urbanas, donde todas las rutas son potencialmente válidas. Sin embargo, **el sistema debe optimizar la selección del camino** no solo para encontrar una ruta válida, sino también para **minimizar el tiempo de recorrido**. Esto implica que la inteligencia artificial debe considerar factores como la distancia, la velocidad permitida en cada calle y cualquier otro factor relevante que pueda afectar al tiempo total del trayecto."
   ]
  },
  {
   "cell_type": "markdown",
   "metadata": {},
   "source": [
    "### 1.1. Objetivos de la práctica\n",
    "\n",
    "* Implementar las estrategias de búsqueda no informada **primero en anchura** y **primero en profundidad** para encontrar un camino desde el punto de partida hasta un lugar de destino.\n",
    "\n",
    "* Implementar las estrategias de búsqueda informada **primero mejor** y **A\\*** utilizando heurísticas apropiadas para resolver el problema en cuestión.\n",
    "\n",
    "En este trabajo pondremos en práctica las técnicas de búsqueda en estado de espacios. Para ello, se implementarán y utilizarán algunos de los algoritmos vistos en los temas dos y tres para resolver un problema clásico, esto es, buscar rutas en un grafo.\n",
    "\n",
    "También analizaremos y compararemos el rendimiento de los algoritmos ejecutándolos en diferentes instancias del problema y proporcionando distintos estados inicial y objetivo.\n",
    "\n",
    "Esperamos que esta práctica os ayude a profundizar en vuestra comprensión de las estrategias de búsqueda en inteligencia artificial y os anime a pensar en cómo se pueden aplicar estas técnicas en situaciones del mundo real para ayudar en operaciones de navegación y otras tareas críticas.\n",
    "\n",
    "**¡Buena suerte!**"
   ]
  },
  {
   "cell_type": "markdown",
   "metadata": {
    "datalore": {
     "hide_input_from_viewers": false,
     "hide_output_from_viewers": false,
     "node_id": "kf129lUYKXkYfl7kIPcDlq",
     "type": "MD"
    }
   },
   "source": [
    "## 2. Descripción del problema\n",
    "\n",
    "Deberéis resolver un problema en el que un vehículo autónomo debe encontrar la ruta más rápida entre dos intersecciones cualesquiera en una ciudad. El espacio de búsqueda está definido por un sistema vial urbano donde el vehículo puede moverse en varias direcciones para alcanzar su destino.\n",
    "\n",
    "Más formalmente, el problema se puede definir como:\n",
    "\n",
    "* Estado inicial: Un punto de partida que representa la intersección inicial del vehículo.\n",
    "* Estados: Todas las intersecciones de la ciudad son válidas para el tránsito y pueden ser visitadas por el vehículo.\n",
    "* Estado final: Llegar a la intersección de destino.\n",
    "* Acciones: Moverse de una intersección a otra a través de las calles de la ciudad."
   ]
  },
  {
   "cell_type": "markdown",
   "metadata": {},
   "source": [
    "### 2.1. Ejemplo ilustrativo:\n",
    "\n",
    "Un posible ejemplo de este problema podría ser el que se muestra en la siguiente imagen, que muestra una parte de la ciudad de Albacete:\n",
    "\n",
    "![title](figures\\small\\paseo_simoÌn_abril_250_1.png)\n",
    "\n",
    "En este caso, el objetivo sería ir de la intersección con identificador `621983933`, representada en color verde; a la intersección con identificador `1322977378`, representada en color azul.\n",
    "\n",
    "---\n",
    "\n",
    "##### Nota:\n",
    "\n",
    "* El archivo de contiene la imagen debe guardarse en la ruta indicada en el código de esta celda.\n",
    "\n",
    "---"
   ]
  },
  {
   "cell_type": "markdown",
   "metadata": {
    "datalore": {
     "hide_input_from_viewers": false,
     "hide_output_from_viewers": false,
     "node_id": "6gYL6VoT3okFgLpKvyyAq7",
     "type": "MD"
    }
   },
   "source": [
    "## 3. Desarrollo de la práctica\n",
    "\n",
    "Durante el desarrollo de la práctica, se hará entrega un conjunto de instancias de problemas. La dimensionalidad será variable, y los algoritmos implementados deberán ser lo suficientemente eficientes para funcionar correctamente con todas las instancias proporcionadas. En la evaluación de la práctica se realizará con escenarios diferentes a los proporcionados, generados de forma automática y de diferente dimensionalidad."
   ]
  },
  {
   "cell_type": "markdown",
   "metadata": {},
   "source": [
    "### 3.1 Problemas de entrada\n",
    "\n",
    "Cada escenario vendrá dado en un archivo en formato `json` que contiene la siguiente información, siguiendo el formato de un diccionario cuyas claves son:\n",
    "\n",
    "* `address`: Dirección utilizada\n",
    "* `distance`: Radio máximo utilizado para sacar las intersecciones y segmentos alrededor de la dirección\n",
    "* `intersections`: Lista de diccionarios con la información de las intersecciones\n",
    "* `segments`: Lista de diccionarios con la información de los segmentos, esto es, calles entre dos intersecciones\n",
    "* `initial`: Intersección inicial\n",
    "* `final`: Intersección final\n",
    "\n",
    "En cada diccionario en `intersections`, hay tres claves:\n",
    "\n",
    "* `identifier`: Identificador de la intersección\n",
    "* `longitude`: Longitud de la intersección\n",
    "* `latitude`: Latitud de la intersección\n",
    "\n",
    "En cada diccionario en `segments`, hay cuatro claves:\n",
    "\n",
    "* `origin`: Intersección origen\n",
    "* `destination`: Intersección destino\n",
    "* `distance`: Distancia entre las dos intersecciones\n",
    "* `speed`: Velocidad máxima permitida entre las dos intersecciones"
   ]
  },
  {
   "cell_type": "markdown",
   "metadata": {
    "datalore": {
     "hide_input_from_viewers": false,
     "hide_output_from_viewers": false,
     "node_id": "XqiqZwKKFJXYVAdvmfoLoK",
     "type": "MD"
    }
   },
   "source": [
    "## 4. Plan de trabajo"
   ]
  },
  {
   "cell_type": "markdown",
   "metadata": {},
   "source": [
    "### 4.1. Tareas a realizar\n",
    "\n",
    "* Diseño del espacio de estados:\n",
    "    * Describir cómo se representará el espacio de estados, las acciones y el coste de las acciones.\n",
    "\n",
    "\n",
    "* Implementación de estrategias de búsqueda:\n",
    "    * Implementar al menos dos estrategias de búsqueda no informada.\n",
    "    * Implementar al menos dos estrategias de búsqueda informada, utilizando heurísticas adecuadas para encontrar rutas óptimas.\n",
    "\n",
    "\n",
    "* Experimentación y análisis:\n",
    "    * Analizar el rendimiento de las estrategias implementadas en términos de optimización de tiempo, espacio y rutas.\n",
    "    * Comparar y contrastar los resultados obtenidos de las diferentes estrategias de búsqueda.\n",
    "\n",
    "\n",
    "* Informe:\n",
    "    * Redactar un informe detallando el proceso seguido, las estrategias implementadas y los resultados obtenidos.\n",
    "\n",
    "\n",
    "A continuación se proporcionan más detalles de cada tarea."
   ]
  },
  {
   "cell_type": "markdown",
   "metadata": {},
   "source": [
    "### 4.2. Evaluación de la práctica\n",
    "\n",
    "La evaluación de la práctica se realizará mediante un examen individual en la que tendrá en cuenta:\n",
    "\n",
    "* La correcta implementación de las estrategias de búsqueda: 50%\n",
    "* El diseño del espacio de estados y heurísticas: 25%\n",
    "* La experimentación realizada y el análisis de resultados: 25%\n",
    "\n",
    "Todo ello ponderado por nivel de conocimiento que el estudiante ofrezca de la práctica en caso de que el examen sea una entrevista personal."
   ]
  },
  {
   "cell_type": "markdown",
   "metadata": {},
   "source": [
    "### 4.3. Fechas\n",
    "\n",
    "* Fecha límite para enviar el código: **31 de octubre de 2024**\n",
    "* Plazo de presentación del informe: **Final del cuatrimestre**"
   ]
  },
  {
   "cell_type": "markdown",
   "metadata": {},
   "source": [
    "### 4.4. Formalización del problema y ejemplos\n",
    "\n",
    "En primer lugar, la búsqueda de rutas en una ciudad debe formalizarse como un problema de búsqueda en espacio de estados, definiendo sus elementos básicos. Todas las implementaciones deben hacer referencia a la búsqueda en grafos, por lo que es importante tener en cuenta que se deben controlar los estados repetidos."
   ]
  },
  {
   "cell_type": "markdown",
   "metadata": {},
   "source": [
    "### 4.5. Implementación\n",
    "\n",
    "La implementación deberá realizarse en lenguaje `Python`. Para ello deberéis codificar vuestra propia estructura de clases para la formalización del problema y, posteriormente, implementar los algoritmos estudiados en las clases de teoría para resolver el problema de búsqueda planteado. Recomendamos crear una clase por cada entidad que define un problema de búsqueda, a saber, estado, acción, nodo, problema, búsqueda, etc.\n",
    "\n",
    "**Se recomienda probar cada una de las clases creadas tras su implementación para comprobar su correcto funcionamiento antes de integrarlas en el resto del código.**\n",
    "\n",
    "---\n",
    "\n",
    "##### Notas:\n",
    "\n",
    "* El orden de las acciones viene determinado por el estado destino cuyo identificador sea menor, es decir en caso de que en un punto dado (intersección) se puedan alcanzar diferentes destinos (parciales) se visitarán siguiendo un orden numérico creciente. Lo mismo aplica en caso de empate en los algoritmos de búsqueda informados.\n",
    "\n",
    "---"
   ]
  },
  {
   "cell_type": "markdown",
   "metadata": {
    "datalore": {
     "hide_input_from_viewers": false,
     "hide_output_from_viewers": false,
     "node_id": "6q3uoKPoKLFZnX2wHpx2mu",
     "type": "MD"
    }
   },
   "source": [
    "### 4.6. Estudio y mejora de los algoritmos\n",
    "\n",
    "Una vez implementados los algoritmos, se deberá realizar un estudio su rendimiento. Para ello, se deberá comparar la calidad de las soluciones obtenidas, así como el número de nodos expandidos para instancias de diferentes tamaños. Factores como el tamaño máximo de problema que se puede resolver sin que haya desbordamiento de memoria, o el efecto de utilizar escenarios más complejos, también son importantes. Además, se pueden proponer implementaciones alternativas que aumenten la eficiencia de los algoritmos."
   ]
  },
  {
   "cell_type": "markdown",
   "metadata": {
    "datalore": {
     "hide_input_from_viewers": false,
     "hide_output_from_viewers": false,
     "node_id": "TN8nQpEQOYIQynu67Jy1ln",
     "type": "MD"
    }
   },
   "source": [
    "### 4.7. Informe\n",
    "\n",
    "Además del cuaderno que contiene la implementación, el trabajo consiste en elaborar un informe, que tendrá una fecha de entrega posterior, pero que recomendamos que se realice a la vez que se desarrolle la práctica, tanto para el código como para la parte de estudio y mejora de los algoritmos.\n",
    "\n",
    "En particular, entre otros temas que se consideren de interés mencionar, en informe deberá incluir como mínimo:\n",
    "\n",
    "* Una breve descripción del problema, una descripción de la implementación, la evaluación del rendimiento y la descripción de las mejoras, si existen.\n",
    "\n",
    "* La formalización del problema.\n",
    "\n",
    "* Para algoritmos de búsqueda informados se deben proporcionar al menos dos heurísticas. Además de su descripción y motivación, se deberá incluir un análisis que indique si la heurística propuesta se considera admisible y consistente.\n",
    "\n",
    "* El estudio del rendimiento de los algoritmos implementados debe basarse en probar los algoritmos en varias instancias, presentando tablas o gráficos que resuman los resultados.\n",
    "\n",
    "**El informe no debe incluir figuras con código fuente**, a menos que sea necesario para explicar algún concepto clave como estructuras de datos, mejoras en eficiencia, etc. En tales casos, se permite incluir pseudocódigo con el formato adecuado.\n",
    "\n",
    "**Tampoco es recomendable incluir capturas de pantalla**."
   ]
  },
  {
   "cell_type": "markdown",
   "metadata": {
    "datalore": {
     "hide_input_from_viewers": false,
     "hide_output_from_viewers": false,
     "node_id": "Tinwe1v9Wx9ZaC9NcMPB1a",
     "type": "MD"
    }
   },
   "source": [
    "## 5. Presentación y evaluación\n",
    "\n",
    "Es muy recomendable realizar el trabajo por parejas, aunque se puede realizar de forma individual. El examen o entrevistas para la evaluación se realizarán la semana siguiente a la entrefa, y siempre de forma individual.\n",
    "\n",
    "Algunas consideraciones relacionadas con la evaluación:\n",
    "\n",
    "* Esta práctica cuenta un 40% de la nota de laboratorio. La segunda práctica necesitará la resolución previa de esta parte y cuenta un 60%.\n",
    "\n",
    "* La asistencia a las prácticas no es obligatoria, pero será la mejor base para resolver con éxito las prácticas.\n",
    "\n",
    "* Recordad que las dudas y preguntas sobre las prácticas de laboratorio deben resolverse principalmente en las sesiones de laboratorio.\n",
    "\n",
    "* Proporcionaremos un conjunto de casos de prueba preliminares que deben resolverse correctamente. En caso contrario, el trabajo se considerará no apto para su presentación.\n",
    "\n",
    "* Para obtener una puntuación en el práctica tendrás que responder, de forma individual, a una serie de preguntas sobre la organización del código y sobre cuestiones relacionadas.\n",
    "\n",
    "* **En la evaluación no continua se requerirá la implementación de las mismas estrategias de búsqueda más**:\n",
    "    * Búsqueda en profundidad limitada\n",
    "    * Búsqueda en profundidad iterativa\n",
    "    \n",
    "    ***También se pueden requerir características adicionales**."
   ]
  },
  {
   "cell_type": "markdown",
   "metadata": {},
   "source": [
    "## 6. Implementación de la Práctica 1\n",
    "\n",
    "Aquí vamos a implementar la solución que hemos propuesto, estructuras de datos, clases con sus métodos necesarios."
   ]
  },
  {
   "cell_type": "code",
   "execution_count": 2,
   "metadata": {},
   "outputs": [],
   "source": [
    "# =============================================================================\n",
    "# Imports\n",
    "# =============================================================================\n",
    "\n",
    "# Para la definición de clases abstractas\n",
    "from abc import ABC, abstractmethod\n",
    "# Para la definición de colas de prioridad\t\n",
    "from queue import PriorityQueue\n",
    "# Para la lectura de archivos\n",
    "import json\n",
    "# Para ver el tiempo de ejecución\n",
    "import time\n",
    "\n",
    "#Para las heurísticas\n",
    "import math"
   ]
  },
  {
   "cell_type": "markdown",
   "metadata": {},
   "source": [
    "#### Clase `Accion`\n",
    "\n",
    "Esta clase represta las acciones que tendrá que hacer el vehículo autónomo. Una acción esta definida por un `origen` un `destino` y un `coste` por acción. El atributo __slots__ nos permite ganar velocidad en la ejecución porque es más rápido acceder a memoria\n",
    "\n",
    "Métodos obligatorios: \n",
    "\n",
    "- `__init__(self, origen, destino, coste)`: Constructor de la clase con los necesarios argumentos (origen,destino y coste). Siendo el coste el tiempo que se tarda en llegar desde una intersección a otra\n",
    "\n",
    "Methods recommended: \n",
    "\n",
    "- `__repr__(self)`: String representation of the objects. Useful to debug list of `Action`\n",
    "- `__str__(self)`: Method used when `print(Action)` is called. Useful to debug single `Action`"
   ]
  },
  {
   "cell_type": "code",
   "execution_count": 3,
   "metadata": {},
   "outputs": [],
   "source": [
    "class Accion:\n",
    "    __slots__ = ['origen', 'destino', 'coste']\n",
    "\n",
    "    def __init__(self, origen, destino, coste):\n",
    "        self.origen = origen\n",
    "        self.destino = destino\n",
    "        self.coste = coste #Este coste viene en tiempo  "
   ]
  },
  {
   "cell_type": "markdown",
   "metadata": {},
   "source": [
    "#### Clase `Estado`\n",
    "\n",
    "Esta clase es la representacion de un Estado en el espacio de búsquedas. Un Estado está determinado por la `intersección` en la que el vehículo autónomo se encuentra. \n",
    "\n",
    "Métodos obligatorios: \n",
    "\n",
    "- `__init__(self, interseccion)`: Constructor de la clase.\n",
    "- `__eq__(self, other)`: Método para comprobar que dos intersecciones son iguales.\n",
    "- `aplicarAccion(self, accion)`: Dada una `Accion` válida, devuelve un `Estado` nuevo generado al aplicar la Accion al Estado actual. \n",
    "\n",
    "Methods recommended: \n",
    "\n",
    "- `__repr__(self)`: String representation of the objects. Useful to debug list of `State`\n",
    "- `__str__(self)`: Method used when `print(State)` is called. Useful to debug single `State`"
   ]
  },
  {
   "cell_type": "code",
   "execution_count": 4,
   "metadata": {},
   "outputs": [],
   "source": [
    "class Estado:\n",
    "    __slots__ = ['interseccion']\n",
    "\n",
    "    def __init__(self, interseccion):\n",
    "        self.interseccion = interseccion\n",
    "\n",
    "    def __eq__(self, other):\n",
    "        return self.interseccion == other.interseccion\n",
    "    \n",
    "    def aplicarAccion(self, accion):\n",
    "        if self.interseccion == accion.origen:\n",
    "            return Estado(accion.destino)\n",
    "        raise Exception(\"No se puede aplicar la acción\")"
   ]
  },
  {
   "cell_type": "markdown",
   "metadata": {},
   "source": [
    "#### Clase `Nodo`. \n",
    "\n",
    "Esta clase es la representacion de un Nodo. Un `Nodo` está definido por el `Estado` al que representa, su `Nodo` padre y la `Accion` que ha sido necesaria para llegar desde su padre al `Nodo` actual. En métodos de Búsqueda informada, es necesario además el atributo heurística para almacenar la heurística del `Nodo`.\n",
    "Además la clase `Nodo` tiene otros atributos que están relacionados con las estadísticas, como la profundidad o el coste. \n",
    "\n",
    "Métodos obligatorios: \n",
    "\n",
    "- `__init__(self, estado, padre=None, coste=0, profundidad=0)`: Constructor de la clase.\n",
    "- `getSolucion(self)`: Método utilizado para construir la lista solución (relacionado con las estadísticas)\n",
    "- `__lt__(self, other)`: Método utilizado para comparar la heurística de dos `Nodos`\n",
    "\n",
    "Methods recommended: \n",
    "\n",
    "- `__repr__(self)`: String representation of the objects. Useful to debug list of `Node`\n",
    "- `__str__(self)`: Method used when `print(Node)` is called. Useful to debug single `Node`"
   ]
  },
  {
   "cell_type": "code",
   "execution_count": 5,
   "metadata": {},
   "outputs": [],
   "source": [
    "class Nodo:\n",
    "    __slots__ = ['estado', 'padre', 'coste', 'profundidad', 'accion', 'heuristica']\n",
    "\n",
    "    def __init__(self, estado, padre=None, coste=0, profundidad=0):\n",
    "        if isinstance(estado, Estado):\n",
    "            self.estado = estado\n",
    "        else:\n",
    "            self.estado = Estado(estado)\n",
    "        self.padre = padre\n",
    "        self.coste = coste\n",
    "        self.profundidad = profundidad\n",
    "        self.accion = []\n",
    "        self.heuristica = 0\n",
    "\n",
    "    def getSolucion(self):\n",
    "        solucion = []\n",
    "        nodo = self\n",
    "        while nodo.padre is not None:\n",
    "            solucion.insert(0, nodo.estado.interseccion)\n",
    "            nodo = nodo.padre\n",
    "        solucion.insert(0, nodo.estado.interseccion)\n",
    "        return solucion\n",
    "    \n",
    "    def __lt__(self, other):\n",
    "        return self.heuristica < other.heuristica\n"
   ]
  },
  {
   "cell_type": "markdown",
   "metadata": {},
   "source": [
    "#### Clase `Problema` \n",
    "\n",
    "Esta clase es la representanción del problema. Lee de un JSON la instancia del problema que debe ser resuelto. Está definida por dicho JSON (por tanto atributos que se leen directamente del mismo)-> distancia,interseccion,estado_inicial, estado_objetivo,segmentos y veloMax (velocidad máxima del problema).\n",
    "\n",
    "Métodos obligatorios: \n",
    "\n",
    "- `__init__(self, ruta)`: Constructor de la clase, se le pasa la ruta de donde se encuentra el JSON.\n",
    "- `getAcciones(self, estado)`: Método utilizado para devolver una lista de acciones posibles para un `Estado`.\n",
    "- `esObjetivo(self, estado)`: Método utilizado para comprobar si un `Estado` es el `Estado` objetivo.\n",
    "- `getDistanciaFinal(self, estado)`: Método utilizado para obtener la distancia euclidiana entre el `Estado` actual y el `Estado` objetivo. \n",
    "- `getDistanciaInicial(self, estado)`:  Método utilizado para obtener la distancia euclidiana entre el `Estado` actual y el `Estado` inicial."
   ]
  },
  {
   "cell_type": "code",
   "execution_count": 6,
   "metadata": {},
   "outputs": [],
   "source": [
    "class Problema:\n",
    "    def __init__(self, ruta):\n",
    "        #abrimos el archivo y lo guardamos\n",
    "        with open(ruta, 'r') as archivo:\n",
    "            self.datos_json = json.load(archivo)\n",
    "\n",
    "        self.distancia = self.datos_json[\"distance\"]\n",
    "        self.interseccion = self.datos_json[\"intersections\"]\n",
    "        self.estado_inicial = self.datos_json[\"initial\"]\n",
    "        self.estado_objetivo = self.datos_json[\"final\"]\n",
    "        self.segmentos = self.datos_json[\"segments\"]\n",
    "        self.veloMax = 0\n",
    "        for seg in self.segmentos:\n",
    "            if seg[\"speed\"] > self.veloMax :\n",
    "                self.veloMax = seg[\"speed\"]\n",
    "    \n",
    "    def getAcciones(self, estado):\n",
    "        acciones = []\n",
    "        for segmento in self.segmentos:\n",
    "            if segmento[\"origin\"] == estado.interseccion:\n",
    "                acciones.append(Accion(segmento[\"origin\"], segmento[\"destination\"], (segmento[\"distance\"]/(segmento[\"speed\"]*(10/36)))))\n",
    "        return acciones\n",
    "    \n",
    "    def esObjetivo(self, estado):\n",
    "        return estado.interseccion == self.estado_objetivo\n",
    "    \n",
    "    # Obtener la distancia entre el estado actual y el estado final en el problema\n",
    "    def getDistanciaFinal(self, estado):\n",
    "        # Obtener la intersección actual del estado\n",
    "        interseccion_actual = None\n",
    "        for interseccion in self.interseccion:\n",
    "            if interseccion[\"identifier\"] == estado.interseccion:\n",
    "                interseccion_actual = interseccion\n",
    "                break\n",
    "        # Obtener el estado objetivo\n",
    "        for interseccion in self.interseccion:\n",
    "            if interseccion[\"identifier\"] == self.estado_objetivo:\n",
    "                interseccion_objetivo = interseccion\n",
    "                break\n",
    "        # Calcular la distancia entre el estado actual y el estado objetivo\n",
    "        lat_actual = interseccion_actual[\"latitude\"]\n",
    "        lon_actual = interseccion_actual[\"longitude\"]\n",
    "        lat_objetivo = interseccion_objetivo[\"latitude\"]\n",
    "        lon_objetivo = interseccion_objetivo[\"longitude\"]\n",
    "\n",
    "        # Fórmula de distancia euclidiana entre los puntos (lat, lon) del estado actual y el final\n",
    "        distancia = math.sqrt((lat_objetivo-lat_actual ) ** 2 + (lon_objetivo-lon_actual ) ** 2)\n",
    "        \n",
    "        return distancia\n",
    "\n",
    "    # Obtener la distancia entre el estado actual y el estado inicial en el problema\n",
    "    def getDistanciaInicial(self, estado):\n",
    "        # Obtener la intersección actual del estado\n",
    "        interseccion_actual = None\n",
    "        for interseccion in self.interseccion:\n",
    "            if interseccion[\"identifier\"] == estado.interseccion:\n",
    "                interseccion_actual = interseccion\n",
    "                break\n",
    "\n",
    "        # Obtener el estado objetivo\n",
    "        for interseccion in self.interseccion:\n",
    "            if interseccion[\"identifier\"] == self.estado_inicial:\n",
    "                interseccion_inicial = interseccion\n",
    "                break\n",
    "        \n",
    "        # Calcular la distancia entre el estado actual y el estado objetivo\n",
    "        lat_actual = interseccion_actual[\"latitude\"]\n",
    "        lon_actual = interseccion_actual[\"longitude\"]\n",
    "        lat_objetivo = interseccion_inicial[\"latitude\"]\n",
    "        lon_objetivo = interseccion_inicial[\"longitude\"]\n",
    "\n",
    "        # Fórmula de distancia euclidiana entre los puntos (lat, lon) del estado actual y el inicial\n",
    "        distancia = math.sqrt((lat_actual - lat_objetivo) ** 2 + (lon_actual - lon_objetivo) ** 2)\n",
    "        return distancia\n"
   ]
  },
  {
   "cell_type": "markdown",
   "metadata": {},
   "source": [
    "#### Clase `Busqueda`\n",
    "\n",
    "La clase `Busqueda` es una clase abstracta, la cual tiene los siguientes atributos:\n",
    "- El atributo problema, que guardará el `Problema` a resolver.\n",
    "- El atributo frontera, el cual almacena los `Nodos` que se encuentran en estado abierto, es decir que se han generado pero no visitado aún. La estructura de este atributo cambiará dependiendo del método de búsqueda, por lo que es un atributo abstracto.\n",
    "- El atributo nodos cerrados, el cual tendrá una estructura de conjuntos. Almacena los `Nodos` que se han comprobado si son solución.\n",
    "- Los atributos relacionados con las estadísticas:\n",
    "    - El tiempo ejecucion en generar la solución.\n",
    "    - El número de nodos generados.\n",
    "    - El número de nodos expandidos\n",
    "    - La profundidad de la solución.\n",
    "    - El coste de la solución\n",
    "    - La lista de `Nodos` que forman parte de la solución.\n",
    "\n",
    "La clase `Busqueda` tiene métodos abstractos, es necesario que sean declarados de esta manera ya que cada estrategia de búsqueda los implementará de manera distinta: \n",
    "- `insertarNodo(self, nodo, frontera)`: Método utilizado para insertar un nodo en la lista.\n",
    "- `extraerNodo(self, frontera)`: Método utilizado para extraer un nodo de la frontera.\n",
    "- `esVacio(self, frontera)`: Método utilizado para comprobar si la frontera está vacía, es necesario que este método sea abstracto ya que la la estructura de datos de la frontera será distinta en las estrategias de búsqueda no informada e informada. \n",
    "\n",
    "Métodos obligatorios: \n",
    "- ` __init__(self, problema)`: Constructor de la clase.\n",
    "- `expandir(self, nodo)`: Método utilizado para expandir un `Nodo`, devuelve una lista de `Nodos` sucesores al `Nodo` actual.\n",
    "- `busqueda(self)`: Método utilizado para realizar una búsqueda de grafos. Además incluye las estadísticas que se mostrarán por pantalla al llamar al método encargado de generarlas e imprimirlas.\n",
    "\n",
    "Métodos relacionados con las estadísticas:\n",
    "- `formatoTiempo(self, tiempo_total)`: Método utilizado para formatear el tiempo (tanto el coste como el de ejecución) a un patrón común.\n",
    "- `formatoSolucion(self, solucion)`: Método utilizado para mostrar la solución de la misma manera que las soluciones dadas por el profesor.\n",
    "- `imprimirEstadisticas(self)`: Método utilizado para impirmir todas las estadísitcas por pantalla. "
   ]
  },
  {
   "cell_type": "code",
   "execution_count": 7,
   "metadata": {},
   "outputs": [],
   "source": [
    "class Busqueda(ABC):\n",
    "    def __init__(self, problema):\n",
    "        #Datos que necesitamos para el problems\n",
    "        self.problema = problema\n",
    "        self.nodos_cerrados = set()\n",
    "        self.frontera = None\n",
    "\n",
    "        #Datos para las estadisticas\n",
    "        self.tiempo_ejecucion = 0\n",
    "        self.nodos_generados = 0\n",
    "        self.nodos_expandidos = 0\n",
    "        self.profundidad_sol = 0\n",
    "        self.coste_sol = 0\n",
    "        self.hay_sol = False\n",
    "        self.solucion = []\n",
    "    \n",
    "    #Metodos implementados en las clases especificas\n",
    "    @abstractmethod\n",
    "    def insertarNodo(self, nodo, frontera):\n",
    "        pass\n",
    "    @abstractmethod\n",
    "    def extraerNodo(self, frontera):\n",
    "        pass\n",
    "    @abstractmethod\n",
    "    def esVacio(self, frontera):\n",
    "        pass\n",
    "    \n",
    "    #Metodos para las estadisticas\n",
    "    def formatoTiempo(self, tiempo_total): #El tiempo total tiene que estar dado en segundos\n",
    "        horas = int(tiempo_total // 3600)\n",
    "        minutos = int((tiempo_total % 3600) // 60)\n",
    "        segundos = int(tiempo_total % 60)\n",
    "        milisegundos = int((tiempo_total - int(tiempo_total)) * 1000000)\n",
    "        tiempo_formateado = f\"{horas:01d}:{minutos:02d}:{segundos:02d}.{milisegundos:06d}\"\n",
    "        return tiempo_formateado\n",
    "\n",
    "    def formatoSolucion(self, solucion):\n",
    "        return [f\"( {solucion[i]} -> {solucion[i + 1]} )\" for i in range(len(solucion) - 1)]\n",
    "\n",
    "    def imprimirEstadisticas(self):\n",
    "        if self.hay_sol:\n",
    "            print(\"\\nEstadísticas:\")\n",
    "            print(f\"Nodos generados: {self.nodos_generados}\")\n",
    "            print(f\"Nodos expandidos: {self.nodos_expandidos}\")\n",
    "            print(f\"Tiempo de ejecuccion: {self.formatoTiempo(self.tiempo_ejecucion)}\")\n",
    "            print(f\"Profundidad de la solución: {self.profundidad_sol}\")\n",
    "            print(f\"Coste: {self.formatoTiempo(self.coste_sol)}\")\n",
    "            print(\"Solución encontrada:\", self.formatoSolucion(self.solucion))\n",
    "        else:\n",
    "            print(\"\\n\\nNo se encontró solución.\")\n",
    "\n",
    "    #Metodos para la busqueda\n",
    "    def expandir(self, nodo):\n",
    "        sucesores = []\n",
    "        acciones = self.problema.getAcciones(nodo.estado)\n",
    "        for accion in acciones:\n",
    "            sucesores.append(Nodo(nodo.estado.aplicarAccion(accion),nodo,nodo.coste + accion.coste,nodo.profundidad + 1))\n",
    "        #ordenar sucesores por nodo.estado.interseccion\n",
    "        sucesores.sort(key=lambda x: x.estado.interseccion)\n",
    "        return sucesores\n",
    "    \n",
    "    def busqueda(self):\n",
    "        inicio = time.perf_counter()\n",
    "        e_inicial = Nodo(self.problema.estado_inicial)\n",
    "        self.insertarNodo(e_inicial, self.frontera)\n",
    "        self.nodos_generados += 1\n",
    "\n",
    "        while not self.esVacio(self.frontera):\n",
    "            nodo = self.extraerNodo(self.frontera)\n",
    "            if nodo.estado.interseccion in self.nodos_cerrados:\n",
    "                continue\n",
    "\n",
    "            if self.problema.esObjetivo(nodo.estado):\n",
    "                self.tiempo_ejecucion = time.perf_counter() - inicio\n",
    "                self.hay_sol = True\n",
    "                self.profundidad_sol = nodo.profundidad\n",
    "                self.coste_sol = nodo.coste\n",
    "                self.solucion = nodo.getSolucion()\n",
    "                return self.imprimirEstadisticas()\n",
    "            \n",
    "            #Ha sido explorado y no es solucion\n",
    "            self.nodos_expandidos += 1\n",
    "            self.nodos_cerrados.add(nodo.estado.interseccion)\n",
    "            #expandimos\n",
    "            sucesores = self.expandir(nodo)\n",
    "\n",
    "            for sucesor in sucesores:\n",
    "                self.insertarNodo(sucesor, self.frontera)\n",
    "                self.nodos_generados += 1\n",
    "            \n",
    "        \n",
    "        return self.imprimirEstadisticas()"
   ]
  },
  {
   "cell_type": "markdown",
   "metadata": {},
   "source": [
    "#### Búsqueda no informada: `Busqueda_Profundidad` and `Busqueda_Anchura`\n",
    "\n",
    "Ambas clases son clases heredadas de la clase `Busqueda` por lo tanto heredadarán sus mismos atributos y métodos. La clase `Busqueda` tiene métodos abstractos que varían en función de la estrategia de búsqueda, por lo que aquí serán implementadas distintas según sea `Busqueda_Profundidad` o `Busqueda_Anchura`. Dichos métodos son: ` insertarNodo(self, nodo, frontera)`, `extraerNodo(self, frontera)`, `esVacio(self, frontera)`.\n",
    "Por último, la estructura de la frontera será una lista."
   ]
  },
  {
   "cell_type": "code",
   "execution_count": 8,
   "metadata": {},
   "outputs": [],
   "source": [
    "class Busqueda_Profundidad(Busqueda):\n",
    "    def __init__(self, problema):\n",
    "        super().__init__(problema)\n",
    "        self.frontera = []\n",
    "    \n",
    "    def insertarNodo(self, nodo, frontera):\n",
    "        frontera.insert(0, nodo)\n",
    "        \n",
    "    def extraerNodo(self, frontera):\n",
    "        return frontera.pop(0)\n",
    "    \n",
    "    def esVacio(self, frontera):\n",
    "        return not frontera"
   ]
  },
  {
   "cell_type": "code",
   "execution_count": 9,
   "metadata": {},
   "outputs": [],
   "source": [
    "class Busqueda_Anchura(Busqueda):\n",
    "    def __init__(self, problema):\n",
    "        super().__init__(problema)\n",
    "        self.frontera = []\n",
    "\n",
    "    def insertarNodo(self, nodo, frontera):\n",
    "        frontera.append(nodo)\n",
    "\n",
    "    def extraerNodo(self, frontera):\n",
    "        return frontera.pop(0)\n",
    "    \n",
    "    def esVacio(self, frontera):\n",
    "        return not frontera"
   ]
  },
  {
   "cell_type": "markdown",
   "metadata": {},
   "source": [
    "#### Búsqueda informada: `Busqueda_Primero_Mejor` and `Busqueda_a_estrella`\n",
    "\n",
    "Ambas clases son clases heredadas de la clase `Busqueda` por lo tanto heredadarán sus mismos atributos y métodos.\n",
    "\n",
    "La diferencia entre los algoritmos de búsqueda informada es la manera en la que se calcula el coste de un `Nodo`. El coste para cada estrategia de busqueda informada se calcula de la siguiente manera, siendo f(n) el coste del Nodo, g(n) el coste necesario para llegar del `Nodo` inicial al `Nodo` actual, y h(n) la heurística.:\n",
    "- Primero mejor: $f(n) = h(n)$ \n",
    "- A*: $f(n) = g(n) + h(n)$ \n",
    "\n",
    "Los métodos abstractos ` insertarNodo(self, nodo, frontera)`, `extraerNodo(self, frontera)`, `esVacio(self, frontera)` se implementarán distinto según la estrategia. Además la estructura de la frontera será una PriorityQueue, ya que es una estructura que almacena los datos de manera ordenada automáticamente según el valor que nosotros le indiquemos, en nuestro caso la heurística."
   ]
  },
  {
   "cell_type": "code",
   "execution_count": 10,
   "metadata": {},
   "outputs": [],
   "source": [
    "class Busqueda_Primero_Mejor(Busqueda):\n",
    "    def __init__(self, problema):\n",
    "        super().__init__(problema)\n",
    "        self.frontera = PriorityQueue()\n",
    "\n",
    "    def insertarNodo(self, nodo, frontera):\n",
    "        nodo.heuristica = self.problema.getDistanciaFinal(nodo.estado) / self.problema.veloMax\n",
    "        frontera.put(((nodo.heuristica), nodo))\n",
    "\n",
    "    def extraerNodo(self, frontera):\n",
    "        return frontera.get()[1]\n",
    "\n",
    "    def esVacio(self, frontera):\n",
    "        return not frontera"
   ]
  },
  {
   "cell_type": "code",
   "execution_count": 11,
   "metadata": {},
   "outputs": [],
   "source": [
    "class Busqueda_a_estrella(Busqueda):\n",
    "    def __init__(self, problema):\n",
    "        super().__init__(problema)\n",
    "        self.frontera = PriorityQueue()\n",
    "\n",
    "    def insertarNodo(self, nodo, frontera):\n",
    "        final = self.problema.getDistanciaFinal(nodo.estado) / self.problema.veloMax\n",
    "        inicial = self.problema.getDistanciaInicial(nodo.estado) / self.problema.veloMax\n",
    "        nodo.heuristica =  inicial + final \n",
    "        frontera.put(((nodo.heuristica), nodo))\n",
    "\n",
    "    def extraerNodo(self, frontera):\n",
    "        return frontera.get()[1]\n",
    "\n",
    "    def esVacio(self, frontera):\n",
    "        return not frontera"
   ]
  },
  {
   "cell_type": "markdown",
   "metadata": {},
   "source": [
    "#### Ejemplo de uso de los algoritmos de búsqueda\n",
    "\n",
    "Para cambiar el problema que se desea calcular, simplemente hay que cambiar la ruta"
   ]
  },
  {
   "cell_type": "code",
   "execution_count": 14,
   "metadata": {},
   "outputs": [
    {
     "name": "stdout",
     "output_type": "stream",
     "text": [
      "\n",
      "anchura\n",
      "\n",
      "Estadísticas:\n",
      "Nodos generados: 5094\n",
      "Nodos expandidos: 2597\n",
      "Tiempo de ejecuccion: 0:00:00.664453\n",
      "Profundidad de la solución: 61\n",
      "Coste: 0:30:33.529412\n",
      "Solución encontrada: ['( 1529475099 -> 1530704673 )', '( 1530704673 -> 1845567634 )', '( 1845567634 -> 9517864886 )', '( 9517864886 -> 4221332624 )', '( 4221332624 -> 5062426403 )', '( 5062426403 -> 4221332646 )', '( 4221332646 -> 4221332652 )', '( 4221332652 -> 4221529801 )', '( 4221529801 -> 4221332670 )', '( 4221332670 -> 1897731905 )', '( 1897731905 -> 1534988792 )', '( 1534988792 -> 1526752603 )', '( 1526752603 -> 1526752555 )', '( 1526752555 -> 1526752598 )', '( 1526752598 -> 1526752507 )', '( 1526752507 -> 1429086692 )', '( 1429086692 -> 1429086694 )', '( 1429086694 -> 1736047807 )', '( 1736047807 -> 1528823023 )', '( 1528823023 -> 1528823033 )', '( 1528823033 -> 9503910580 )', '( 9503910580 -> 1534989228 )', '( 1534989228 -> 1534537007 )', '( 1534537007 -> 9630348447 )', '( 9630348447 -> 1537104233 )', '( 1537104233 -> 2857895948 )', '( 2857895948 -> 1537104231 )', '( 1537104231 -> 1551656342 )', '( 1551656342 -> 1551656344 )', '( 1551656344 -> 1551656338 )', '( 1551656338 -> 1537103701 )', '( 1537103701 -> 1603928470 )', '( 1603928470 -> 9724657574 )', '( 9724657574 -> 1489468232 )', '( 1489468232 -> 1560680555 )', '( 1560680555 -> 1560680510 )', '( 1560680510 -> 337499338 )', '( 337499338 -> 338035949 )', '( 338035949 -> 338035683 )', '( 338035683 -> 345742714 )', '( 345742714 -> 345742725 )', '( 345742725 -> 1836298217 )', '( 1836298217 -> 1836298174 )', '( 1836298174 -> 1836298063 )', '( 1836298063 -> 502602016 )', '( 502602016 -> 4522342876 )', '( 4522342876 -> 1534433751 )', '( 1534433751 -> 4522342875 )', '( 4522342875 -> 1836298188 )', '( 1836298188 -> 1836298097 )', '( 1836298097 -> 1505132749 )', '( 1505132749 -> 4522342864 )', '( 4522342864 -> 1836298167 )', '( 1836298167 -> 4012637091 )', '( 4012637091 -> 4012637093 )', '( 4012637093 -> 1564080263 )', '( 1564080263 -> 1564080270 )', '( 1564080270 -> 1564080391 )', '( 1564080391 -> 1564080265 )', '( 1564080265 -> 1528667946 )', '( 1528667946 -> 2918545278 )']\n",
      "\n",
      "profundidad\n",
      "\n",
      "Estadísticas:\n",
      "Nodos generados: 4106\n",
      "Nodos expandidos: 2093\n",
      "Tiempo de ejecuccion: 0:00:00.523484\n",
      "Profundidad de la solución: 596\n",
      "Coste: 1:46:24.944856\n",
      "Solución encontrada: ['( 1529475099 -> 1577308277 )', '( 1577308277 -> 1529475098 )', '( 1529475098 -> 1530722175 )', '( 1530722175 -> 1529475301 )', '( 1529475301 -> 1529475302 )', '( 1529475302 -> 1530722043 )', '( 1530722043 -> 1530704777 )', '( 1530704777 -> 1736129366 )', '( 1736129366 -> 1530704651 )', '( 1530704651 -> 4575714131 )', '( 4575714131 -> 539830999 )', '( 539830999 -> 1529776769 )', '( 1529776769 -> 539833067 )', '( 539833067 -> 1529475275 )', '( 1529475275 -> 1529475285 )', '( 1529475285 -> 1530704601 )', '( 1530704601 -> 1530704878 )', '( 1530704878 -> 539831002 )', '( 539831002 -> 1845567634 )', '( 1845567634 -> 9517864886 )', '( 9517864886 -> 4221332624 )', '( 4221332624 -> 5062426403 )', '( 5062426403 -> 4221332646 )', '( 4221332646 -> 5062426404 )', '( 5062426404 -> 4221332652 )', '( 4221332652 -> 4221529801 )', '( 4221529801 -> 4221332670 )', '( 4221332670 -> 4221529800 )', '( 4221529800 -> 5062364337 )', '( 5062364337 -> 4221332806 )', '( 4221332806 -> 4221529798 )', '( 4221529798 -> 4221332816 )', '( 4221332816 -> 4221332942 )', '( 4221332942 -> 4221332951 )', '( 4221332951 -> 5068361766 )', '( 5068361766 -> 4221332949 )', '( 4221332949 -> 1667183543 )', '( 1667183543 -> 1788460559 )', '( 1788460559 -> 1836308297 )', '( 1836308297 -> 1528040851 )', '( 1528040851 -> 2808118758 )', '( 2808118758 -> 1526193017 )', '( 1526193017 -> 1396813127 )', '( 1396813127 -> 9428973269 )', '( 9428973269 -> 1533701514 )', '( 1533701514 -> 1529475745 )', '( 1529475745 -> 1533701533 )', '( 1533701533 -> 1533701587 )', '( 1533701587 -> 1533701476 )', '( 1533701476 -> 1533701488 )', '( 1533701488 -> 1533701558 )', '( 1533701558 -> 1674847669 )', '( 1674847669 -> 1529475769 )', '( 1529475769 -> 1529475777 )', '( 1529475777 -> 1589647611 )', '( 1589647611 -> 1529475835 )', '( 1529475835 -> 1535219782 )', '( 1535219782 -> 1529475934 )', '( 1529475934 -> 1674847668 )', '( 1674847668 -> 2574080940 )', '( 2574080940 -> 1674847666 )', '( 1674847666 -> 1529475820 )', '( 1529475820 -> 2574080941 )', '( 2574080941 -> 1434203114 )', '( 1434203114 -> 4695993249 )', '( 4695993249 -> 4695993255 )', '( 4695993255 -> 359973293 )', '( 359973293 -> 359881812 )', '( 359881812 -> 528691632 )', '( 528691632 -> 1577294664 )', '( 1577294664 -> 528642699 )', '( 528642699 -> 1530815321 )', '( 1530815321 -> 1530815361 )', '( 1530815361 -> 1936548182 )', '( 1936548182 -> 1530815402 )', '( 1530815402 -> 4582722294 )', '( 4582722294 -> 1396800456 )', '( 1396800456 -> 1526221416 )', '( 1526221416 -> 1540051668 )', '( 1540051668 -> 1540051676 )', '( 1540051676 -> 1530764262 )', '( 1530764262 -> 1990894635 )', '( 1990894635 -> 1540051673 )', '( 1540051673 -> 1674847667 )', '( 1674847667 -> 1540051666 )', '( 1540051666 -> 1540051664 )', '( 1540051664 -> 1540051663 )', '( 1540051663 -> 1540051661 )', '( 1540051661 -> 1540051670 )', '( 1540051670 -> 1540051678 )', '( 1540051678 -> 1529623306 )', '( 1529623306 -> 1526221498 )', '( 1526221498 -> 2383148353 )', '( 2383148353 -> 2383148352 )', '( 2383148352 -> 1526221439 )', '( 1526221439 -> 1526658921 )', '( 1526658921 -> 1526658962 )', '( 1526658962 -> 1396800396 )', '( 1396800396 -> 1396800453 )', '( 1396800453 -> 1396800406 )', '( 1396800406 -> 1396800403 )', '( 1396800403 -> 1396800422 )', '( 1396800422 -> 359992331 )', '( 359992331 -> 1529623297 )', '( 1529623297 -> 1566996115 )', '( 1566996115 -> 1526221480 )', '( 1526221480 -> 344738924 )', '( 344738924 -> 344734734 )', '( 344734734 -> 344734742 )', '( 344734742 -> 344734744 )', '( 344734744 -> 7443376126 )', '( 7443376126 -> 8263500322 )', '( 8263500322 -> 2990363357 )', '( 2990363357 -> 3989848906 )', '( 3989848906 -> 7443376150 )', '( 7443376150 -> 3990003524 )', '( 3990003524 -> 1533734380 )', '( 1533734380 -> 1639399061 )', '( 1639399061 -> 1736120055 )', '( 1736120055 -> 1530815154 )', '( 1530815154 -> 1530815231 )', '( 1530815231 -> 1264303768 )', '( 1264303768 -> 4522342872 )', '( 4522342872 -> 430305116 )', '( 430305116 -> 1312244748 )', '( 1312244748 -> 1312244772 )', '( 1312244772 -> 2896740694 )', '( 2896740694 -> 2819141629 )', '( 2819141629 -> 1578533146 )', '( 1578533146 -> 1539110683 )', '( 1539110683 -> 1539110686 )', '( 1539110686 -> 1539110696 )', '( 1539110696 -> 1539110694 )', '( 1539110694 -> 1539110684 )', '( 1539110684 -> 1539110673 )', '( 1539110673 -> 1578550625 )', '( 1578550625 -> 1539110682 )', '( 1539110682 -> 1992385815 )', '( 1992385815 -> 1312244776 )', '( 1312244776 -> 1312244752 )', '( 1312244752 -> 1992385820 )', '( 1992385820 -> 1531612329 )', '( 1531612329 -> 4575714124 )', '( 4575714124 -> 4575714125 )', '( 4575714125 -> 1531612082 )', '( 1531612082 -> 1312091207 )', '( 1312091207 -> 1997280418 )', '( 1997280418 -> 1312091282 )', '( 1312091282 -> 4404600176 )', '( 4404600176 -> 1264303755 )', '( 1264303755 -> 1264303748 )', '( 1264303748 -> 1530815288 )', '( 1530815288 -> 1736120058 )', '( 1736120058 -> 1676572142 )', '( 1676572142 -> 1835700525 )', '( 1835700525 -> 1835700519 )', '( 1835700519 -> 1835700541 )', '( 1835700541 -> 1526728339 )', '( 1526728339 -> 1530143868 )', '( 1530143868 -> 1736125752 )', '( 1736125752 -> 2706919032 )', '( 2706919032 -> 1845661304 )', '( 1845661304 -> 1845661251 )', '( 1845661251 -> 1526705351 )', '( 1526705351 -> 1835328231 )', '( 1835328231 -> 1835328218 )', '( 1835328218 -> 1736125762 )', '( 1736125762 -> 1529477336 )', '( 1529477336 -> 1529477333 )', '( 1529477333 -> 1529477323 )', '( 1529477323 -> 958251087 )', '( 958251087 -> 1532986176 )', '( 1532986176 -> 1835328238 )', '( 1835328238 -> 1835328235 )', '( 1835328235 -> 1835328213 )', '( 1835328213 -> 1567062089 )', '( 1567062089 -> 1835700530 )', '( 1835700530 -> 1835700539 )', '( 1835700539 -> 1835700516 )', '( 1835700516 -> 2706919029 )', '( 2706919029 -> 1560166289 )', '( 1560166289 -> 957161512 )', '( 957161512 -> 1558314548 )', '( 1558314548 -> 1526193113 )', '( 1526193113 -> 1530913371 )', '( 1530913371 -> 1736125755 )', '( 1736125755 -> 1736125766 )', '( 1736125766 -> 1531101604 )', '( 1531101604 -> 1526193121 )', '( 1526193121 -> 1533690229 )', '( 1533690229 -> 1533690171 )', '( 1533690171 -> 1533690307 )', '( 1533690307 -> 344495530 )', '( 344495530 -> 344495531 )', '( 344495531 -> 344495532 )', '( 344495532 -> 957166323 )', '( 957166323 -> 442882995 )', '( 442882995 -> 442882996 )', '( 442882996 -> 1529202076 )', '( 1529202076 -> 1526728391 )', '( 1526728391 -> 1266037419 )', '( 1266037419 -> 957150995 )', '( 957150995 -> 1266037414 )', '( 1266037414 -> 499274652 )', '( 499274652 -> 957151014 )', '( 957151014 -> 1529623269 )', '( 1529623269 -> 1526728308 )', '( 1526728308 -> 1526728400 )', '( 1526728400 -> 1526728361 )', '( 1526728361 -> 4576814617 )', '( 4576814617 -> 344736237 )', '( 344736237 -> 1529202049 )', '( 1529202049 -> 1529623352 )', '( 1529623352 -> 1526728370 )', '( 1526728370 -> 1560166290 )', '( 1560166290 -> 1526728410 )', '( 1526728410 -> 1526728304 )', '( 1526728304 -> 1526728377 )', '( 1526728377 -> 1529623303 )', '( 1529623303 -> 1529623313 )', '( 1529623313 -> 499274675 )', '( 499274675 -> 1573048065 )', '( 1573048065 -> 6296438171 )', '( 6296438171 -> 621983933 )', '( 621983933 -> 1531659796 )', '( 1531659796 -> 1256026659 )', '( 1256026659 -> 1256026663 )', '( 1256026663 -> 1983117780 )', '( 1983117780 -> 1528823328 )', '( 1528823328 -> 1984210179 )', '( 1984210179 -> 1322980462 )', '( 1322980462 -> 1322977385 )', '( 1322977385 -> 1628459226 )', '( 1628459226 -> 434014588 )', '( 434014588 -> 621979238 )', '( 621979238 -> 1266037410 )', '( 1266037410 -> 1528823322 )', '( 1528823322 -> 1529202023 )', '( 1529202023 -> 1526705382 )', '( 1526705382 -> 1531659768 )', '( 1531659768 -> 335606022 )', '( 335606022 -> 333720921 )', '( 333720921 -> 335606021 )', '( 335606021 -> 335606026 )', '( 335606026 -> 335606025 )', '( 335606025 -> 539837920 )', '( 539837920 -> 1836678895 )', '( 1836678895 -> 1836678891 )', '( 1836678891 -> 332441491 )', '( 332441491 -> 1835353337 )', '( 1835353337 -> 1530704881 )', '( 1530704881 -> 1530897746 )', '( 1530897746 -> 1530897531 )', '( 1530897531 -> 1530897562 )', '( 1530897562 -> 1530704637 )', '( 1530704637 -> 1526752558 )', '( 1526752558 -> 1835353359 )', '( 1835353359 -> 551594220 )', '( 551594220 -> 1835353351 )', '( 1835353351 -> 1835353386 )', '( 1835353386 -> 1635557952 )', '( 1635557952 -> 1736073025 )', '( 1736073025 -> 1530897652 )', '( 1530897652 -> 1529202095 )', '( 1529202095 -> 1628459221 )', '( 1628459221 -> 1992568962 )', '( 1992568962 -> 1992568957 )', '( 1992568957 -> 551594177 )', '( 551594177 -> 1835353332 )', '( 1835353332 -> 1835353363 )', '( 1835353363 -> 551594149 )', '( 551594149 -> 551594146 )', '( 551594146 -> 1531673369 )', '( 1531673369 -> 1531673357 )', '( 1531673357 -> 1529475079 )', '( 1529475079 -> 1526752604 )', '( 1526752604 -> 1529475076 )', '( 1529475076 -> 1526752562 )', '( 1526752562 -> 1534470825 )', '( 1534470825 -> 1534470824 )', '( 1534470824 -> 1531673363 )', '( 1531673363 -> 1529475053 )', '( 1529475053 -> 1529475061 )', '( 1529475061 -> 1529475052 )', '( 1529475052 -> 1529475050 )', '( 1529475050 -> 1573037393 )', '( 1573037393 -> 1529475049 )', '( 1529475049 -> 1529475047 )', '( 1529475047 -> 1528823405 )', '( 1528823405 -> 1565091874 )', '( 1565091874 -> 1526752598 )', '( 1526752598 -> 1528823402 )', '( 1528823402 -> 1526752605 )', '( 1526752605 -> 1526752507 )', '( 1526752507 -> 1429086692 )', '( 1429086692 -> 1526752505 )', '( 1526752505 -> 1565091873 )', '( 1565091873 -> 1364816986 )', '( 1364816986 -> 1565088797 )', '( 1565088797 -> 1565088921 )', '( 1565088921 -> 1545718220 )', '( 1545718220 -> 1603945190 )', '( 1603945190 -> 1603945188 )', '( 1603945188 -> 2180941266 )', '( 2180941266 -> 9503925087 )', '( 9503925087 -> 2180941734 )', '( 2180941734 -> 1569209140 )', '( 1569209140 -> 1569209141 )', '( 1569209141 -> 1534537007 )', '( 1534537007 -> 9630348447 )', '( 9630348447 -> 1537104233 )', '( 1537104233 -> 2857895948 )', '( 2857895948 -> 1551656326 )', '( 1551656326 -> 1551656333 )', '( 1551656333 -> 1845567317 )', '( 1845567317 -> 1528823067 )', '( 1528823067 -> 2012872958 )', '( 2012872958 -> 1736047793 )', '( 1736047793 -> 1537103810 )', '( 1537103810 -> 1537104205 )', '( 1537104205 -> 10754434111 )', '( 10754434111 -> 1845567700 )', '( 1845567700 -> 6581578405 )', '( 6581578405 -> 11760297099 )', '( 11760297099 -> 11760297098 )', '( 11760297098 -> 1565088864 )', '( 1565088864 -> 1565088841 )', '( 1565088841 -> 1835353380 )', '( 1835353380 -> 1554807111 )', '( 1554807111 -> 1554807107 )', '( 1554807107 -> 335720320 )', '( 335720320 -> 1574598085 )', '( 1574598085 -> 1554813432 )', '( 1554813432 -> 1574598083 )', '( 1574598083 -> 1554813448 )', '( 1554813448 -> 1528822994 )', '( 1528822994 -> 335720318 )', '( 335720318 -> 1538534032 )', '( 1538534032 -> 1554813467 )', '( 1554813467 -> 1527972843 )', '( 1527972843 -> 1992110641 )', '( 1992110641 -> 1863967068 )', '( 1863967068 -> 1584914319 )', '( 1584914319 -> 1530897924 )', '( 1530897924 -> 1530897532 )', '( 1530897532 -> 1530897460 )', '( 1530897460 -> 1565088794 )', '( 1565088794 -> 1565088942 )', '( 1565088942 -> 1530897812 )', '( 1530897812 -> 1526105964 )', '( 1526105964 -> 1528672005 )', '( 1528672005 -> 2055679429 )', '( 2055679429 -> 1528672003 )', '( 1528672003 -> 552477909 )', '( 552477909 -> 1530897955 )', '( 1530897955 -> 1364816985 )', '( 1364816985 -> 1526108366 )', '( 1526108366 -> 1526108356 )', '( 1526108356 -> 1736073021 )', '( 1736073021 -> 1589636200 )', '( 1589636200 -> 1526705357 )', '( 1526705357 -> 4575714122 )', '( 4575714122 -> 335607940 )', '( 335607940 -> 333719887 )', '( 333719887 -> 335607938 )', '( 335607938 -> 1526705367 )', '( 1526705367 -> 1736073036 )', '( 1736073036 -> 1736073038 )', '( 1736073038 -> 1736073022 )', '( 1736073022 -> 1526705389 )', '( 1526705389 -> 1529623348 )', '( 1529623348 -> 1528832258 )', '( 1528832258 -> 1628459224 )', '( 1628459224 -> 1628459225 )', '( 1628459225 -> 1628459229 )', '( 1628459229 -> 1528823384 )', '( 1528823384 -> 1560699127 )', '( 1560699127 -> 1628459236 )', '( 1628459236 -> 1984658042 )', '( 1984658042 -> 1255547637 )', '( 1255547637 -> 672063299 )', '( 672063299 -> 1736133421 )', '( 1736133421 -> 1322980461 )', '( 1322980461 -> 1322980464 )', '( 1322980464 -> 672063711 )', '( 672063711 -> 1845484937 )', '( 1845484937 -> 672060821 )', '( 672060821 -> 1529197051 )', '( 1529197051 -> 1528823342 )', '( 1528823342 -> 1736133420 )', '( 1736133420 -> 1255547652 )', '( 1255547652 -> 1255547649 )', '( 1255547649 -> 1256026641 )', '( 1256026641 -> 1256026634 )', '( 1256026634 -> 1256026671 )', '( 1256026671 -> 1255547629 )', '( 1255547629 -> 1322977384 )', '( 1322977384 -> 1528823331 )', '( 1528823331 -> 1528823332 )', '( 1528823332 -> 1322977378 )', '( 1322977378 -> 672063712 )', '( 672063712 -> 1845484942 )', '( 1845484942 -> 1983117782 )', '( 1983117782 -> 1255547650 )', '( 1255547650 -> 1255547640 )', '( 1255547640 -> 1557279034 )', '( 1557279034 -> 1255547631 )', '( 1255547631 -> 1255547628 )', '( 1255547628 -> 1528823351 )', '( 1528823351 -> 1255547648 )', '( 1255547648 -> 1579342548 )', '( 1579342548 -> 1256004122 )', '( 1256004122 -> 1984658040 )', '( 1984658040 -> 1256004126 )', '( 1256004126 -> 1579347325 )', '( 1579347325 -> 719109982 )', '( 719109982 -> 1255528486 )', '( 1255528486 -> 2736548945 )', '( 2736548945 -> 1736087418 )', '( 1736087418 -> 621979256 )', '( 621979256 -> 1530201981 )', '( 1530201981 -> 621979267 )', '( 621979267 -> 621979263 )', '( 621979263 -> 1256004134 )', '( 1256004134 -> 1736087420 )', '( 1736087420 -> 1580652280 )', '( 1580652280 -> 1529623315 )', '( 1529623315 -> 1529623340 )', '( 1529623340 -> 443511409 )', '( 443511409 -> 1845484944 )', '( 1845484944 -> 1255547638 )', '( 1255547638 -> 672072227 )', '( 672072227 -> 672072224 )', '( 672072224 -> 672072225 )', '( 672072225 -> 1993610440 )', '( 1993610440 -> 434370872 )', '( 434370872 -> 1540626757 )', '( 1540626757 -> 434014617 )', '( 434014617 -> 434370873 )', '( 434370873 -> 672072226 )', '( 672072226 -> 1529477449 )', '( 1529477449 -> 1533751804 )', '( 1533751804 -> 1533751788 )', '( 1533751788 -> 1529477429 )', '( 1529477429 -> 1256026682 )', '( 1256026682 -> 672072228 )', '( 672072228 -> 950684162 )', '( 950684162 -> 950688700 )', '( 950688700 -> 950684166 )', '( 950684166 -> 958251097 )', '( 958251097 -> 2855727902 )', '( 2855727902 -> 958273823 )', '( 958273823 -> 958273826 )', '( 958273826 -> 1835328223 )', '( 1835328223 -> 1836701435 )', '( 1836701435 -> 1835328234 )', '( 1835328234 -> 1835328221 )', '( 1835328221 -> 1835328240 )', '( 1835328240 -> 1835328225 )', '( 1835328225 -> 1835328248 )', '( 1835328248 -> 435465452 )', '( 435465452 -> 950684159 )', '( 950684159 -> 1836701441 )', '( 1836701441 -> 1836701402 )', '( 1836701402 -> 1327192093 )', '( 1327192093 -> 1531961408 )', '( 1531961408 -> 1836701424 )', '( 1836701424 -> 1529477165 )', '( 1529477165 -> 1529477201 )', '( 1529477201 -> 4404600180 )', '( 4404600180 -> 4404600179 )', '( 4404600179 -> 40120091 )', '( 40120091 -> 1835328249 )', '( 1835328249 -> 2101156997 )', '( 2101156997 -> 265487258 )', '( 265487258 -> 1529724413 )', '( 1529724413 -> 265487272 )', '( 265487272 -> 1536600968 )', '( 1536600968 -> 1860243944 )', '( 1860243944 -> 1531612499 )', '( 1531612499 -> 1438664394 )', '( 1438664394 -> 1529476537 )', '( 1529476537 -> 1531612460 )', '( 1531612460 -> 1529476527 )', '( 1529476527 -> 1529476522 )', '( 1529476522 -> 1531612201 )', '( 1531612201 -> 1438692974 )', '( 1438692974 -> 1530121477 )', '( 1530121477 -> 1530121347 )', '( 1530121347 -> 2706919058 )', '( 2706919058 -> 1530121632 )', '( 1530121632 -> 265487214 )', '( 265487214 -> 2055680042 )', '( 2055680042 -> 1530121341 )', '( 1530121341 -> 1529476667 )', '( 1529476667 -> 1841825689 )', '( 1841825689 -> 1533744188 )', '( 1533744188 -> 1838978954 )', '( 1838978954 -> 2139228295 )', '( 2139228295 -> 936169268 )', '( 936169268 -> 936169303 )', '( 936169303 -> 1838978967 )', '( 1838978967 -> 936192696 )', '( 936192696 -> 4570081900 )', '( 4570081900 -> 2706919069 )', '( 2706919069 -> 1841825692 )', '( 1841825692 -> 936192691 )', '( 936192691 -> 2939268883 )', '( 2939268883 -> 1841825726 )', '( 1841825726 -> 1530121255 )', '( 1530121255 -> 1674826759 )', '( 1674826759 -> 1674826757 )', '( 1674826757 -> 1530121581 )', '( 1530121581 -> 1530121504 )', '( 1530121504 -> 1569877365 )', '( 1569877365 -> 343690217 )', '( 343690217 -> 4400439645 )', '( 4400439645 -> 343690197 )', '( 343690197 -> 1635414157 )', '( 1635414157 -> 2761881804 )', '( 2761881804 -> 1838958624 )', '( 1838958624 -> 1845484945 )', '( 1845484945 -> 1845484949 )', '( 1845484949 -> 569202232 )', '( 569202232 -> 569202236 )', '( 569202236 -> 569174730 )', '( 569174730 -> 1838958632 )', '( 1838958632 -> 1838958612 )', '( 1838958612 -> 1838958629 )', '( 1838958629 -> 1994436318 )', '( 1994436318 -> 569203716 )', '( 569203716 -> 1542527083 )', '( 1542527083 -> 1845484952 )', '( 1845484952 -> 1846799917 )', '( 1846799917 -> 1846799860 )', '( 1846799860 -> 569283039 )', '( 569283039 -> 569269854 )', '( 569269854 -> 1846794076 )', '( 1846794076 -> 1530009759 )', '( 1530009759 -> 1846799864 )', '( 1846799864 -> 1846799914 )', '( 1846799914 -> 1846799897 )', '( 1846799897 -> 1846799911 )', '( 1846799911 -> 1846799848 )', '( 1846799848 -> 347330144 )', '( 347330144 -> 1674826779 )', '( 1674826779 -> 344357562 )', '( 344357562 -> 1556233343 )', '( 1556233343 -> 1529867350 )', '( 1529867350 -> 9454408964 )', '( 9454408964 -> 2875980854 )', '( 2875980854 -> 1591327378 )', '( 1591327378 -> 7472391251 )', '( 7472391251 -> 1529867326 )', '( 1529867326 -> 343847622 )', '( 343847622 -> 344357591 )', '( 344357591 -> 429595692 )', '( 429595692 -> 429595697 )', '( 429595697 -> 429595699 )', '( 429595699 -> 430726819 )', '( 430726819 -> 1535182137 )', '( 1535182137 -> 1565299467 )', '( 1565299467 -> 10921272429 )', '( 10921272429 -> 1565299472 )', '( 1565299472 -> 1565299452 )', '( 1565299452 -> 1565299481 )', '( 1565299481 -> 1565299449 )', '( 1565299449 -> 1565299486 )', '( 1565299486 -> 1565299489 )', '( 1565299489 -> 1567312464 )', '( 1567312464 -> 9464507686 )', '( 9464507686 -> 9464507705 )', '( 9464507705 -> 9464507704 )', '( 9464507704 -> 9464507703 )', '( 9464507703 -> 4012661376 )', '( 4012661376 -> 4012661352 )', '( 4012661352 -> 4012661350 )', '( 4012661350 -> 4012661367 )', '( 4012661367 -> 1847000939 )', '( 1847000939 -> 1847000666 )', '( 1847000666 -> 1835738868 )', '( 1835738868 -> 1529848122 )', '( 1529848122 -> 536508306 )', '( 536508306 -> 1835745659 )', '( 1835745659 -> 1564080359 )', '( 1564080359 -> 1564080287 )', '( 1564080287 -> 1836655744 )', '( 1836655744 -> 1564080301 )', '( 1564080301 -> 4012653693 )', '( 4012653693 -> 4012653701 )', '( 4012653701 -> 4012653682 )', '( 4012653682 -> 4012653702 )', '( 4012653702 -> 1564080389 )', '( 1564080389 -> 1564080265 )', '( 1564080265 -> 1528667946 )', '( 1528667946 -> 2918545278 )']\n",
      "\n",
      "primero mejor\n",
      "\n",
      "Estadísticas:\n",
      "Nodos generados: 280\n",
      "Nodos expandidos: 146\n",
      "Tiempo de ejecuccion: 0:00:00.088614\n",
      "Profundidad de la solución: 109\n",
      "Coste: 0:13:21.818649\n",
      "Solución encontrada: ['( 1529475099 -> 1577308277 )', '( 1577308277 -> 1529475098 )', '( 1529475098 -> 1530704632 )', '( 1530704632 -> 1577713909 )', '( 1577713909 -> 539831093 )', '( 539831093 -> 539831082 )', '( 539831082 -> 539831084 )', '( 539831084 -> 539831085 )', '( 539831085 -> 1529475094 )', '( 1529475094 -> 1836678889 )', '( 1836678889 -> 539833849 )', '( 539833849 -> 1529475090 )', '( 1529475090 -> 1836678895 )', '( 1836678895 -> 539837920 )', '( 539837920 -> 1530704637 )', '( 1530704637 -> 1526752558 )', '( 1526752558 -> 1835353359 )', '( 1835353359 -> 551594220 )', '( 551594220 -> 1835353348 )', '( 1835353348 -> 1530897650 )', '( 1530897650 -> 1562200802 )', '( 1562200802 -> 1628459221 )', '( 1628459221 -> 1992568962 )', '( 1992568962 -> 1992568957 )', '( 1992568957 -> 551594177 )', '( 551594177 -> 1835353332 )', '( 1835353332 -> 1526108366 )', '( 1526108366 -> 552477910 )', '( 552477910 -> 1835353382 )', '( 1835353382 -> 1572439170 )', '( 1572439170 -> 1554807109 )', '( 1554807109 -> 1554807205 )', '( 1554807205 -> 1572435249 )', '( 1572435249 -> 1574598070 )', '( 1574598070 -> 1572435255 )', '( 1572435255 -> 1554807113 )', '( 1554807113 -> 1526105986 )', '( 1526105986 -> 618009048 )', '( 618009048 -> 1530209368 )', '( 1530209368 -> 1526105983 )', '( 1526105983 -> 1530209339 )', '( 1530209339 -> 335720312 )', '( 335720312 -> 335607957 )', '( 335607957 -> 335607958 )', '( 335607958 -> 335896858 )', '( 335896858 -> 1528160276 )', '( 1528160276 -> 1636423094 )', '( 1636423094 -> 336600461 )', '( 336600461 -> 336596800 )', '( 336596800 -> 336596828 )', '( 336596828 -> 335899245 )', '( 335899245 -> 8263500333 )', '( 8263500333 -> 1845461767 )', '( 1845461767 -> 1845461766 )', '( 1845461766 -> 593886272 )', '( 593886272 -> 1574616305 )', '( 1574616305 -> 1304926344 )', '( 1304926344 -> 1304926343 )', '( 1304926343 -> 1574624925 )', '( 1574624925 -> 1845461762 )', '( 1845461762 -> 7447373906 )', '( 7447373906 -> 1527972840 )', '( 1527972840 -> 1969703053 )', '( 1969703053 -> 1969703058 )', '( 1969703058 -> 1969703025 )', '( 1969703025 -> 9454303906 )', '( 9454303906 -> 1565088845 )', '( 1565088845 -> 1505132824 )', '( 1505132824 -> 9454303899 )', '( 9454303899 -> 1535837306 )', '( 1535837306 -> 2777058748 )', '( 2777058748 -> 1565055244 )', '( 1565055244 -> 1524945906 )', '( 1524945906 -> 8613594499 )', '( 8613594499 -> 1836298235 )', '( 1836298235 -> 1540420141 )', '( 1540420141 -> 7454911062 )', '( 7454911062 -> 2010537594 )', '( 2010537594 -> 2519632452 )', '( 2519632452 -> 1836298196 )', '( 1836298196 -> 1836298178 )', '( 1836298178 -> 1540420115 )', '( 1540420115 -> 2519632473 )', '( 2519632473 -> 1530081377 )', '( 1530081377 -> 1530081393 )', '( 1530081393 -> 1526193216 )', '( 1526193216 -> 429656557 )', '( 429656557 -> 429656548 )', '( 429656548 -> 429656549 )', '( 429656549 -> 429656553 )', '( 429656553 -> 429657582 )', '( 429657582 -> 1122581625 )', '( 1122581625 -> 1528667879 )', '( 1528667879 -> 1528667890 )', '( 1528667890 -> 1528667892 )', '( 1528667892 -> 1528667827 )', '( 1528667827 -> 1528667814 )', '( 1528667814 -> 3730487935 )', '( 3730487935 -> 1528667871 )', '( 1528667871 -> 536520933 )', '( 536520933 -> 1836655744 )', '( 1836655744 -> 1564080287 )', '( 1564080287 -> 1564080359 )', '( 1564080359 -> 1835745659 )', '( 1835745659 -> 536508296 )', '( 536508296 -> 536508297 )', '( 536508297 -> 1835745655 )', '( 1835745655 -> 1564080388 )', '( 1564080388 -> 2918545278 )']\n",
      "\n",
      "a estrella\n",
      "\n",
      "Estadísticas:\n",
      "Nodos generados: 2096\n",
      "Nodos expandidos: 1077\n",
      "Tiempo de ejecuccion: 0:00:00.917701\n",
      "Profundidad de la solución: 118\n",
      "Coste: 0:13:28.035049\n",
      "Solución encontrada: ['( 1529475099 -> 1577308277 )', '( 1577308277 -> 1529475098 )', '( 1529475098 -> 1530704632 )', '( 1530704632 -> 1577713909 )', '( 1577713909 -> 539831093 )', '( 539831093 -> 539831082 )', '( 539831082 -> 539831084 )', '( 539831084 -> 539831085 )', '( 539831085 -> 1529475094 )', '( 1529475094 -> 1836678889 )', '( 1836678889 -> 1835353367 )', '( 1835353367 -> 1836678893 )', '( 1836678893 -> 1836678891 )', '( 1836678891 -> 332441491 )', '( 332441491 -> 1835353337 )', '( 1835353337 -> 1530704881 )', '( 1530704881 -> 1530897746 )', '( 1530897746 -> 1530897531 )', '( 1530897531 -> 1530897562 )', '( 1530897562 -> 1530704637 )', '( 1530704637 -> 1526752558 )', '( 1526752558 -> 1835353359 )', '( 1835353359 -> 551594220 )', '( 551594220 -> 1835353348 )', '( 1835353348 -> 1530897650 )', '( 1530897650 -> 1562200802 )', '( 1562200802 -> 1628459221 )', '( 1628459221 -> 1992568962 )', '( 1992568962 -> 1429086687 )', '( 1429086687 -> 335607940 )', '( 335607940 -> 333719887 )', '( 333719887 -> 335607938 )', '( 335607938 -> 335607943 )', '( 335607943 -> 335607942 )', '( 335607942 -> 335607946 )', '( 335607946 -> 1554807128 )', '( 1554807128 -> 1628459236 )', '( 1628459236 -> 1256004126 )', '( 1256004126 -> 1579347325 )', '( 1579347325 -> 719109982 )', '( 719109982 -> 1255528486 )', '( 1255528486 -> 2736548945 )', '( 2736548945 -> 1256602816 )', '( 1256602816 -> 1554779027 )', '( 1554779027 -> 1530201967 )', '( 1530201967 -> 1255528474 )', '( 1255528474 -> 1255528495 )', '( 1255528495 -> 1255528468 )', '( 1255528468 -> 1255528478 )', '( 1255528478 -> 1255504854 )', '( 1255504854 -> 1560897852 )', '( 1560897852 -> 1253952549 )', '( 1253952549 -> 1528160276 )', '( 1528160276 -> 1636423094 )', '( 1636423094 -> 336600461 )', '( 336600461 -> 336596800 )', '( 336596800 -> 336596828 )', '( 336596828 -> 335899245 )', '( 335899245 -> 8263500333 )', '( 8263500333 -> 1845461767 )', '( 1845461767 -> 1845461766 )', '( 1845461766 -> 593886272 )', '( 593886272 -> 1574616305 )', '( 1574616305 -> 1304926344 )', '( 1304926344 -> 1304926343 )', '( 1304926343 -> 1574624925 )', '( 1574624925 -> 715854174 )', '( 715854174 -> 1543094589 )', '( 1543094589 -> 1543094620 )', '( 1543094620 -> 1543094615 )', '( 1543094615 -> 1543094607 )', '( 1543094607 -> 1543094598 )', '( 1543094598 -> 1556683833 )', '( 1556683833 -> 497073946 )', '( 497073946 -> 497030421 )', '( 497030421 -> 1525965414 )', '( 1525965414 -> 1540420125 )', '( 1540420125 -> 1836298158 )', '( 1836298158 -> 1540420120 )', '( 1540420120 -> 1525965413 )', '( 1525965413 -> 5282926231 )', '( 5282926231 -> 5956583334 )', '( 5956583334 -> 497030566 )', '( 497030566 -> 1628459247 )', '( 1628459247 -> 1567675226 )', '( 1567675226 -> 1532827479 )', '( 1532827479 -> 1526009232 )', '( 1526009232 -> 1836670008 )', '( 1836670008 -> 1836674746 )', '( 1836674746 -> 1836298178 )', '( 1836298178 -> 1540420115 )', '( 1540420115 -> 2519632473 )', '( 2519632473 -> 1530081377 )', '( 1530081377 -> 1530081393 )', '( 1530081393 -> 1526193216 )', '( 1526193216 -> 429656557 )', '( 429656557 -> 429656548 )', '( 429656548 -> 429656549 )', '( 429656549 -> 429656553 )', '( 429656553 -> 429657582 )', '( 429657582 -> 1122581625 )', '( 1122581625 -> 1528667879 )', '( 1528667879 -> 1528667890 )', '( 1528667890 -> 1528667892 )', '( 1528667892 -> 1528667827 )', '( 1528667827 -> 1528667814 )', '( 1528667814 -> 3730487935 )', '( 3730487935 -> 1528667871 )', '( 1528667871 -> 536520933 )', '( 536520933 -> 1836655744 )', '( 1836655744 -> 1564080287 )', '( 1564080287 -> 1564080359 )', '( 1564080359 -> 1835745659 )', '( 1835745659 -> 536508296 )', '( 536508296 -> 536508297 )', '( 536508297 -> 1835745655 )', '( 1835745655 -> 1564080388 )', '( 1564080388 -> 2918545278 )']\n"
     ]
    }
   ],
   "source": [
    "ruta_json = r'examples_with_solutions\\problems\\huge\\calle_de_francisco_javier_de_moya_albacete_5000_3.json'\n",
    "\n",
    "#ruta_json = r'pr1_SSII/examples_with_solutions/problems/huge/calle_agustina_aroca_albacete_5000_0.json'\n",
    "\n",
    "problema = Problema(ruta_json)\n",
    "\n",
    "#anchura\n",
    "print(\"\\nanchura\")\n",
    "anchura = Busqueda_Anchura(problema).busqueda()\n",
    "\n",
    "#profundidad\n",
    "print(\"\\nprofundidad\")\n",
    "profundidad = Busqueda_Profundidad(problema).busqueda()\n",
    "\n",
    "#primero mejor\n",
    "print(\"\\nprimero mejor\")\n",
    "primero_mejor = Busqueda_Primero_Mejor(problema).busqueda()\n",
    "\n",
    "#a estrella\n",
    "print(\"\\na estrella\")\n",
    "a_estrella = Busqueda_a_estrella(problema).busqueda()"
   ]
  },
  {
   "cell_type": "code",
   "execution_count": null,
   "metadata": {},
   "outputs": [],
   "source": []
  }
 ],
 "metadata": {
  "datalore": {
   "base_environment": "default",
   "computation_mode": "JUPYTER",
   "package_manager": "pip",
   "packages": [
    {
     "name": "pqueue",
     "source": "PIP",
     "version": "0.1.7"
    },
    {
     "name": "geopy",
     "source": "PIP",
     "version": "2.2.0"
    }
   ],
   "version": 1
  },
  "kernelspec": {
   "display_name": "base",
   "language": "python",
   "name": "python3"
  },
  "language_info": {
   "codemirror_mode": {
    "name": "ipython",
    "version": 3
   },
   "file_extension": ".py",
   "mimetype": "text/x-python",
   "name": "python",
   "nbconvert_exporter": "python",
   "pygments_lexer": "ipython3",
   "version": "3.12.4"
  },
  "latex_envs": {
   "LaTeX_envs_menu_present": true,
   "autoclose": false,
   "autocomplete": true,
   "bibliofile": "biblio.bib",
   "cite_by": "apalike",
   "current_citInitial": 1,
   "eqLabelWithNumbers": true,
   "eqNumInitial": 1,
   "hotkeys": {
    "equation": "Ctrl-E",
    "itemize": "Ctrl-I"
   },
   "labels_anchors": false,
   "latex_user_defs": false,
   "report_style_numbering": false,
   "user_envs_cfg": false
  }
 },
 "nbformat": 4,
 "nbformat_minor": 4
}
