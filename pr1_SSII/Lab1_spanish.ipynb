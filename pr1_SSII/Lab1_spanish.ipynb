{
 "cells": [
  {
   "cell_type": "markdown",
   "metadata": {},
   "source": [
    "# Sistemas Inteligentes\n",
    "\n",
    "## Curso académico 2024-2025\n",
    "\n",
    "### Práctica 1: Búsqueda en espacio de estados\n",
    "\n",
    "#### Profesores\n",
    "\n",
    "* Juan Carlos Alfaro Jiménez: JuanCarlos.Alfaro@uclm.es\n",
    "* María Julia Flores Gallego: Julia.Flores@uclm.es\n",
    "* Ismael García Varea: Ismael.Garcia@uclm.es\n",
    "* Adrián Rodríguez López: Adrian.Rodriguez18@alu.uclm.es"
   ]
  },
  {
   "cell_type": "markdown",
   "metadata": {
    "datalore": {
     "hide_input_from_viewers": false,
     "hide_output_from_viewers": false,
     "node_id": "BJiz7lonyeROocVlcYrKWu",
     "type": "MD"
    }
   },
   "source": [
    "## ¡Conducción autónoma!"
   ]
  },
  {
   "cell_type": "markdown",
   "metadata": {
    "datalore": {
     "hide_input_from_viewers": false,
     "hide_output_from_viewers": false,
     "node_id": "BJiz7lonyeROocVlcYrKWu",
     "type": "MD"
    }
   },
   "source": [
    "## 1. Introducción\n",
    "\n",
    "En el marco de un proyecto piloto del **Ministerio de Transportes y Movilidad Sostenible**, cuyo objetivo es proporcionar un servicio de desplazamiento urbano personalizado para personas con movilidad reducida, se nos ha encargado el estudio del despliegue de una flota de vehículos autónomos en diferentes localidades y ciudades del país en función de una serie de indicadores (tamaño de la población, densidad de población, demanda del servicio, etc.). Dichos vehículos autónomos deberán disponer de un sistema de conducción inteligente que permita a dichos vehículos llevar a una serie de personas desde un punto de origen hasta su destino de manera segura y eficiente.\n",
    "\n",
    "Dentro del proyecto, **por el momento, se nos pide diseñar un algoritmo que sea capaz de optimizar el transporte a una persona desde un lugar de origen a un destino específico** dentro de una ciudad. En este escenario, el vehículo autónomo deberá navegar por una red de calles e intersecciones urbanas, donde todas las rutas son potencialmente válidas. Sin embargo, **el sistema debe optimizar la selección del camino** no solo para encontrar una ruta válida, sino también para **minimizar el tiempo de recorrido**. Esto implica que la inteligencia artificial debe considerar factores como la distancia, la velocidad permitida en cada calle y cualquier otro factor relevante que pueda afectar al tiempo total del trayecto."
   ]
  },
  {
   "cell_type": "markdown",
   "metadata": {},
   "source": [
    "### 1.1. Objetivos de la práctica\n",
    "\n",
    "* Implementar las estrategias de búsqueda no informada **primero en anchura** y **primero en profundidad** para encontrar un camino desde el punto de partida hasta un lugar de destino.\n",
    "\n",
    "* Implementar las estrategias de búsqueda informada **primero mejor** y **A\\*** utilizando heurísticas apropiadas para resolver el problema en cuestión.\n",
    "\n",
    "En este trabajo pondremos en práctica las técnicas de búsqueda en estado de espacios. Para ello, se implementarán y utilizarán algunos de los algoritmos vistos en los temas dos y tres para resolver un problema clásico, esto es, buscar rutas en un grafo.\n",
    "\n",
    "También analizaremos y compararemos el rendimiento de los algoritmos ejecutándolos en diferentes instancias del problema y proporcionando distintos estados inicial y objetivo.\n",
    "\n",
    "Esperamos que esta práctica os ayude a profundizar en vuestra comprensión de las estrategias de búsqueda en inteligencia artificial y os anime a pensar en cómo se pueden aplicar estas técnicas en situaciones del mundo real para ayudar en operaciones de navegación y otras tareas críticas.\n",
    "\n",
    "**¡Buena suerte!**"
   ]
  },
  {
   "cell_type": "markdown",
   "metadata": {
    "datalore": {
     "hide_input_from_viewers": false,
     "hide_output_from_viewers": false,
     "node_id": "kf129lUYKXkYfl7kIPcDlq",
     "type": "MD"
    }
   },
   "source": [
    "## 2. Descripción del problema\n",
    "\n",
    "Deberéis resolver un problema en el que un vehículo autónomo debe encontrar la ruta más rápida entre dos intersecciones cualesquiera en una ciudad. El espacio de búsqueda está definido por un sistema vial urbano donde el vehículo puede moverse en varias direcciones para alcanzar su destino.\n",
    "\n",
    "Más formalmente, el problema se puede definir como:\n",
    "\n",
    "* Estado inicial: Un punto de partida que representa la intersección inicial del vehículo.\n",
    "* Estados: Todas las intersecciones de la ciudad son válidas para el tránsito y pueden ser visitadas por el vehículo.\n",
    "* Estado final: Llegar a la intersección de destino.\n",
    "* Acciones: Moverse de una intersección a otra a través de las calles de la ciudad."
   ]
  },
  {
   "cell_type": "markdown",
   "metadata": {},
   "source": [
    "### 2.1. Ejemplo ilustrativo:\n",
    "\n",
    "Un posible ejemplo de este problema podría ser el que se muestra en la siguiente imagen, que muestra una parte de la ciudad de Albacete:\n",
    "\n",
    "![title](figures\\small\\paseo_simoÌn_abril_250_1.png)\n",
    "\n",
    "En este caso, el objetivo sería ir de la intersección con identificador `621983933`, representada en color verde; a la intersección con identificador `1322977378`, representada en color azul.\n",
    "\n",
    "---\n",
    "\n",
    "##### Nota:\n",
    "\n",
    "* El archivo de contiene la imagen debe guardarse en la ruta indicada en el código de esta celda.\n",
    "\n",
    "---"
   ]
  },
  {
   "cell_type": "markdown",
   "metadata": {
    "datalore": {
     "hide_input_from_viewers": false,
     "hide_output_from_viewers": false,
     "node_id": "6gYL6VoT3okFgLpKvyyAq7",
     "type": "MD"
    }
   },
   "source": [
    "## 3. Desarrollo de la práctica\n",
    "\n",
    "Durante el desarrollo de la práctica, se hará entrega un conjunto de instancias de problemas. La dimensionalidad será variable, y los algoritmos implementados deberán ser lo suficientemente eficientes para funcionar correctamente con todas las instancias proporcionadas. En la evaluación de la práctica se realizará con escenarios diferentes a los proporcionados, generados de forma automática y de diferente dimensionalidad."
   ]
  },
  {
   "cell_type": "markdown",
   "metadata": {},
   "source": [
    "### 3.1 Problemas de entrada\n",
    "\n",
    "Cada escenario vendrá dado en un archivo en formato `json` que contiene la siguiente información, siguiendo el formato de un diccionario cuyas claves son:\n",
    "\n",
    "* `address`: Dirección utilizada\n",
    "* `distance`: Radio máximo utilizado para sacar las intersecciones y segmentos alrededor de la dirección\n",
    "* `intersections`: Lista de diccionarios con la información de las intersecciones\n",
    "* `segments`: Lista de diccionarios con la información de los segmentos, esto es, calles entre dos intersecciones\n",
    "* `initial`: Intersección inicial\n",
    "* `final`: Intersección final\n",
    "\n",
    "En cada diccionario en `intersections`, hay tres claves:\n",
    "\n",
    "* `identifier`: Identificador de la intersección\n",
    "* `longitude`: Longitud de la intersección\n",
    "* `latitude`: Latitud de la intersección\n",
    "\n",
    "En cada diccionario en `segments`, hay cuatro claves:\n",
    "\n",
    "* `origin`: Intersección origen\n",
    "* `destination`: Intersección destino\n",
    "* `distance`: Distancia entre las dos intersecciones\n",
    "* `speed`: Velocidad máxima permitida entre las dos intersecciones"
   ]
  },
  {
   "cell_type": "markdown",
   "metadata": {
    "datalore": {
     "hide_input_from_viewers": false,
     "hide_output_from_viewers": false,
     "node_id": "XqiqZwKKFJXYVAdvmfoLoK",
     "type": "MD"
    }
   },
   "source": [
    "## 4. Plan de trabajo"
   ]
  },
  {
   "cell_type": "markdown",
   "metadata": {},
   "source": [
    "### 4.1. Tareas a realizar\n",
    "\n",
    "* Diseño del espacio de estados:\n",
    "    * Describir cómo se representará el espacio de estados, las acciones y el coste de las acciones.\n",
    "\n",
    "\n",
    "* Implementación de estrategias de búsqueda:\n",
    "    * Implementar al menos dos estrategias de búsqueda no informada.\n",
    "    * Implementar al menos dos estrategias de búsqueda informada, utilizando heurísticas adecuadas para encontrar rutas óptimas.\n",
    "\n",
    "\n",
    "* Experimentación y análisis:\n",
    "    * Analizar el rendimiento de las estrategias implementadas en términos de optimización de tiempo, espacio y rutas.\n",
    "    * Comparar y contrastar los resultados obtenidos de las diferentes estrategias de búsqueda.\n",
    "\n",
    "\n",
    "* Informe:\n",
    "    * Redactar un informe detallando el proceso seguido, las estrategias implementadas y los resultados obtenidos.\n",
    "\n",
    "\n",
    "A continuación se proporcionan más detalles de cada tarea."
   ]
  },
  {
   "cell_type": "markdown",
   "metadata": {},
   "source": [
    "### 4.2. Evaluación de la práctica\n",
    "\n",
    "La evaluación de la práctica se realizará mediante un examen individual en la que tendrá en cuenta:\n",
    "\n",
    "* La correcta implementación de las estrategias de búsqueda: 50%\n",
    "* El diseño del espacio de estados y heurísticas: 25%\n",
    "* La experimentación realizada y el análisis de resultados: 25%\n",
    "\n",
    "Todo ello ponderado por nivel de conocimiento que el estudiante ofrezca de la práctica en caso de que el examen sea una entrevista personal."
   ]
  },
  {
   "cell_type": "markdown",
   "metadata": {},
   "source": [
    "### 4.3. Fechas\n",
    "\n",
    "* Fecha límite para enviar el código: **31 de octubre de 2024**\n",
    "* Plazo de presentación del informe: **Final del cuatrimestre**"
   ]
  },
  {
   "cell_type": "markdown",
   "metadata": {},
   "source": [
    "### 4.4. Formalización del problema y ejemplos\n",
    "\n",
    "En primer lugar, la búsqueda de rutas en una ciudad debe formalizarse como un problema de búsqueda en espacio de estados, definiendo sus elementos básicos. Todas las implementaciones deben hacer referencia a la búsqueda en grafos, por lo que es importante tener en cuenta que se deben controlar los estados repetidos."
   ]
  },
  {
   "cell_type": "markdown",
   "metadata": {},
   "source": [
    "### 4.5. Implementación\n",
    "\n",
    "La implementación deberá realizarse en lenguaje `Python`. Para ello deberéis codificar vuestra propia estructura de clases para la formalización del problema y, posteriormente, implementar los algoritmos estudiados en las clases de teoría para resolver el problema de búsqueda planteado. Recomendamos crear una clase por cada entidad que define un problema de búsqueda, a saber, estado, acción, nodo, problema, búsqueda, etc.\n",
    "\n",
    "**Se recomienda probar cada una de las clases creadas tras su implementación para comprobar su correcto funcionamiento antes de integrarlas en el resto del código.**\n",
    "\n",
    "---\n",
    "\n",
    "##### Notas:\n",
    "\n",
    "* El orden de las acciones viene determinado por el estado destino cuyo identificador sea menor, es decir en caso de que en un punto dado (intersección) se puedan alcanzar diferentes destinos (parciales) se visitarán siguiendo un orden numérico creciente. Lo mismo aplica en caso de empate en los algoritmos de búsqueda informados.\n",
    "\n",
    "---"
   ]
  },
  {
   "cell_type": "markdown",
   "metadata": {
    "datalore": {
     "hide_input_from_viewers": false,
     "hide_output_from_viewers": false,
     "node_id": "6q3uoKPoKLFZnX2wHpx2mu",
     "type": "MD"
    }
   },
   "source": [
    "### 4.6. Estudio y mejora de los algoritmos\n",
    "\n",
    "Una vez implementados los algoritmos, se deberá realizar un estudio su rendimiento. Para ello, se deberá comparar la calidad de las soluciones obtenidas, así como el número de nodos expandidos para instancias de diferentes tamaños. Factores como el tamaño máximo de problema que se puede resolver sin que haya desbordamiento de memoria, o el efecto de utilizar escenarios más complejos, también son importantes. Además, se pueden proponer implementaciones alternativas que aumenten la eficiencia de los algoritmos."
   ]
  },
  {
   "cell_type": "markdown",
   "metadata": {
    "datalore": {
     "hide_input_from_viewers": false,
     "hide_output_from_viewers": false,
     "node_id": "TN8nQpEQOYIQynu67Jy1ln",
     "type": "MD"
    }
   },
   "source": [
    "### 4.7. Informe\n",
    "\n",
    "Además del cuaderno que contiene la implementación, el trabajo consiste en elaborar un informe, que tendrá una fecha de entrega posterior, pero que recomendamos que se realice a la vez que se desarrolle la práctica, tanto para el código como para la parte de estudio y mejora de los algoritmos.\n",
    "\n",
    "En particular, entre otros temas que se consideren de interés mencionar, en informe deberá incluir como mínimo:\n",
    "\n",
    "* Una breve descripción del problema, una descripción de la implementación, la evaluación del rendimiento y la descripción de las mejoras, si existen.\n",
    "\n",
    "* La formalización del problema.\n",
    "\n",
    "* Para algoritmos de búsqueda informados se deben proporcionar al menos dos heurísticas. Además de su descripción y motivación, se deberá incluir un análisis que indique si la heurística propuesta se considera admisible y consistente.\n",
    "\n",
    "* El estudio del rendimiento de los algoritmos implementados debe basarse en probar los algoritmos en varias instancias, presentando tablas o gráficos que resuman los resultados.\n",
    "\n",
    "**El informe no debe incluir figuras con código fuente**, a menos que sea necesario para explicar algún concepto clave como estructuras de datos, mejoras en eficiencia, etc. En tales casos, se permite incluir pseudocódigo con el formato adecuado.\n",
    "\n",
    "**Tampoco es recomendable incluir capturas de pantalla**."
   ]
  },
  {
   "cell_type": "markdown",
   "metadata": {
    "datalore": {
     "hide_input_from_viewers": false,
     "hide_output_from_viewers": false,
     "node_id": "Tinwe1v9Wx9ZaC9NcMPB1a",
     "type": "MD"
    }
   },
   "source": [
    "## 5. Presentación y evaluación\n",
    "\n",
    "Es muy recomendable realizar el trabajo por parejas, aunque se puede realizar de forma individual. El examen o entrevistas para la evaluación se realizarán la semana siguiente a la entrefa, y siempre de forma individual.\n",
    "\n",
    "Algunas consideraciones relacionadas con la evaluación:\n",
    "\n",
    "* Esta práctica cuenta un 40% de la nota de laboratorio. La segunda práctica necesitará la resolución previa de esta parte y cuenta un 60%.\n",
    "\n",
    "* La asistencia a las prácticas no es obligatoria, pero será la mejor base para resolver con éxito las prácticas.\n",
    "\n",
    "* Recordad que las dudas y preguntas sobre las prácticas de laboratorio deben resolverse principalmente en las sesiones de laboratorio.\n",
    "\n",
    "* Proporcionaremos un conjunto de casos de prueba preliminares que deben resolverse correctamente. En caso contrario, el trabajo se considerará no apto para su presentación.\n",
    "\n",
    "* Para obtener una puntuación en el práctica tendrás que responder, de forma individual, a una serie de preguntas sobre la organización del código y sobre cuestiones relacionadas.\n",
    "\n",
    "* **En la evaluación no continua se requerirá la implementación de las mismas estrategias de búsqueda más**:\n",
    "    * Búsqueda en profundidad limitada\n",
    "    * Búsqueda en profundidad iterativa\n",
    "    \n",
    "    ***También se pueden requerir características adicionales**."
   ]
  },
  {
   "cell_type": "markdown",
   "metadata": {},
   "source": [
    "## 6. Implementación de la Práctica 1\n",
    "\n",
    "Aquí vamos a implementar la solución que hemos propuesto, estructuras de datos, clases con sus métodos necesarios."
   ]
  },
  {
   "cell_type": "code",
   "execution_count": 1,
   "metadata": {},
   "outputs": [],
   "source": [
    "# =============================================================================\n",
    "# Imports\n",
    "# =============================================================================\n",
    "\n",
    "# Para la definición de clases abstractas\n",
    "from abc import ABC, abstractmethod\n",
    "# Para la definición de colas de prioridad\t\n",
    "from queue import PriorityQueue\n",
    "# Para la lectura de archivos\n",
    "import json\n",
    "# Para ver el tiempo de ejecución\n",
    "import time\n",
    "\n",
    "#Para las heurísticas\n",
    "import math\n",
    "\n",
    "# Para dibujar el mapa\n",
    "# Third party\n",
    "from pathlib import Path\n",
    "\n",
    "# Local application\n",
    "from plot import plot "
   ]
  },
  {
   "cell_type": "markdown",
   "metadata": {},
   "source": [
    "#### Clase `Accion`\n",
    "\n",
    "Esta clase represta las acciones que tendrá que hacer el vehículo autónomo. Una acción esta definida por un `origen` un `destino` y un `coste` por acción. El atributo __slots__ nos permite ganar velocidad en la ejecución porque es más rápido acceder a memoria\n",
    "\n",
    "Métodos obligatorios: \n",
    "\n",
    "- `__init__(self, origen, destino, coste)`: Constructor de la clase con los necesarios argumentos (origen,destino y coste). Siendo el coste el tiempo que se tarda en llegar desde una intersección a otra"
   ]
  },
  {
   "cell_type": "code",
   "execution_count": 2,
   "metadata": {},
   "outputs": [],
   "source": [
    "class Accion:\n",
    "    __slots__ = ['origen', 'destino', 'coste']\n",
    "\n",
    "    def __init__(self, origen, destino, coste):\n",
    "        self.origen = origen\n",
    "        self.destino = destino\n",
    "        self.coste = coste #Este coste viene en tiempo  "
   ]
  },
  {
   "cell_type": "markdown",
   "metadata": {},
   "source": [
    "#### Clase `Estado`\n",
    "\n",
    "Esta clase es la representacion de un Estado en el espacio de búsquedas. Un Estado está determinado por la `intersección` en la que el vehículo autónomo se encuentra. \n",
    "\n",
    "Métodos obligatorios: \n",
    "\n",
    "- `__init__(self, interseccion)`: Constructor de la clase.\n",
    "- `__eq__(self, other)`: Método para comprobar que dos intersecciones son iguales.\n",
    "- `aplicarAccion(self, accion)`: Dada una `Accion` válida, devuelve un `Estado` nuevo generado al aplicar la Accion al Estado actual. "
   ]
  },
  {
   "cell_type": "code",
   "execution_count": 3,
   "metadata": {},
   "outputs": [],
   "source": [
    "class Estado:\n",
    "    __slots__ = ['interseccion']\n",
    "\n",
    "    def __init__(self, interseccion):\n",
    "        self.interseccion = interseccion\n",
    "\n",
    "    def __eq__(self, other):\n",
    "        return self.interseccion == other.interseccion\n",
    "    \n",
    "    def aplicarAccion(self, accion):\n",
    "        if self.interseccion == accion.origen:\n",
    "            return Estado(accion.destino)\n",
    "        raise Exception(\"No se puede aplicar la acción\")"
   ]
  },
  {
   "cell_type": "markdown",
   "metadata": {},
   "source": [
    "#### Clase `Nodo`. \n",
    "\n",
    "Esta clase es la representacion de un Nodo. Un `Nodo` está definido por el `Estado` al que representa, su `Nodo` padre y la `Accion` que ha sido necesaria para llegar desde su padre al `Nodo` actual. En métodos de Búsqueda informada, es necesario además el atributo heurística para almacenar la heurística del `Nodo`.\n",
    "Además la clase `Nodo` tiene otros atributos que están relacionados con las estadísticas, como la profundidad o el coste. \n",
    "\n",
    "Métodos obligatorios: \n",
    "\n",
    "- `__init__(self, estado, padre=None, coste=0, profundidad=0)`: Constructor de la clase.\n",
    "- `getSolucion(self)`: Método utilizado para construir la lista solución (relacionado con las estadísticas)\n",
    "- `__lt__(self, other)`: Método utilizado para comparar la heurística de dos `Nodos`"
   ]
  },
  {
   "cell_type": "code",
   "execution_count": 4,
   "metadata": {},
   "outputs": [],
   "source": [
    "class Nodo:\n",
    "    __slots__ = ['estado', 'padre', 'coste', 'profundidad', 'accion', 'heuristica']\n",
    "\n",
    "    def __init__(self, estado, padre=None, coste=0, profundidad=0):\n",
    "        if isinstance(estado, Estado):\n",
    "            self.estado = estado\n",
    "        else:\n",
    "            self.estado = Estado(estado)\n",
    "        self.padre = padre\n",
    "        self.coste = coste\n",
    "        self.profundidad = profundidad\n",
    "        self.accion = []\n",
    "        self.heuristica = 0\n",
    "\n",
    "    def getSolucion(self):\n",
    "        solucion = []\n",
    "        nodo = self\n",
    "        while nodo.padre is not None:\n",
    "            solucion.insert(0, nodo.estado.interseccion)\n",
    "            nodo = nodo.padre\n",
    "        solucion.insert(0, nodo.estado.interseccion)\n",
    "        return solucion\n",
    "    \n",
    "    def __lt__(self, other):\n",
    "        return self.heuristica < other.heuristica\n"
   ]
  },
  {
   "cell_type": "markdown",
   "metadata": {},
   "source": [
    "#### Clase `Problema` \n",
    "\n",
    "Esta clase es la representanción del problema. Lee de un JSON la instancia del problema que debe ser resuelto. Está definida por dicho JSON (por tanto atributos que se leen directamente del mismo)-> distancia,interseccion,estado_inicial, estado_objetivo,segmentos y veloMax (velocidad máxima del problema).\n",
    "\n",
    "Métodos obligatorios: \n",
    "\n",
    "- `__init__(self, ruta)`: Constructor de la clase, se le pasa la ruta de donde se encuentra el JSON.\n",
    "- `getAcciones(self, estado)`: Método utilizado para devolver una lista de acciones posibles para un `Estado`.\n",
    "- `esObjetivo(self, estado)`: Método utilizado para comprobar si un `Estado` es el `Estado` objetivo.\n",
    "- `getDistanciaFinal(self, estado)`: Método utilizado para obtener la distancia euclidiana entre el `Estado` actual y el `Estado` objetivo. \n",
    "- `getDistanciaInicial(self, estado)`:  Método utilizado para obtener la distancia euclidiana entre el `Estado` actual y el `Estado` inicial."
   ]
  },
  {
   "cell_type": "code",
   "execution_count": 5,
   "metadata": {},
   "outputs": [],
   "source": [
    "class Problema:\n",
    "    def __init__(self, ruta):\n",
    "        #abrimos el archivo y lo guardamos\n",
    "        with open(ruta, 'r') as archivo:\n",
    "            self.datos_json = json.load(archivo)\n",
    "\n",
    "        self.distancia = self.datos_json[\"distance\"]\n",
    "        self.interseccion = self.datos_json[\"intersections\"]\n",
    "        self.estado_inicial = self.datos_json[\"initial\"]\n",
    "        self.estado_objetivo = self.datos_json[\"final\"]\n",
    "        self.segmentos = self.datos_json[\"segments\"]\n",
    "        self.veloMax = 0\n",
    "        for seg in self.segmentos:\n",
    "            if seg[\"speed\"] > self.veloMax :\n",
    "                self.veloMax = seg[\"speed\"]\n",
    "    \n",
    "    def getAcciones(self, estado):\n",
    "        acciones = []\n",
    "        for segmento in self.segmentos:\n",
    "            if segmento[\"origin\"] == estado.interseccion:\n",
    "                acciones.append(Accion(segmento[\"origin\"], segmento[\"destination\"], (segmento[\"distance\"]/(segmento[\"speed\"]*(10/36)))))\n",
    "        return acciones\n",
    "    \n",
    "    def esObjetivo(self, estado):\n",
    "        return estado.interseccion == self.estado_objetivo\n",
    "    \n",
    "    # Obtener la distancia entre el estado actual y el estado final en el problema\n",
    "    def getDistanciaFinal(self, estado):\n",
    "        # Obtener la intersección actual del estado\n",
    "        interseccion_actual = None\n",
    "        for interseccion in self.interseccion:\n",
    "            if interseccion[\"identifier\"] == estado.interseccion:\n",
    "                interseccion_actual = interseccion\n",
    "                break\n",
    "        # Obtener el estado objetivo\n",
    "        for interseccion in self.interseccion:\n",
    "            if interseccion[\"identifier\"] == self.estado_objetivo:\n",
    "                interseccion_objetivo = interseccion\n",
    "                break\n",
    "        # Calcular la distancia entre el estado actual y el estado objetivo\n",
    "        lat_actual = interseccion_actual[\"latitude\"]\n",
    "        lon_actual = interseccion_actual[\"longitude\"]\n",
    "        lat_objetivo = interseccion_objetivo[\"latitude\"]\n",
    "        lon_objetivo = interseccion_objetivo[\"longitude\"]\n",
    "\n",
    "        # Fórmula de distancia euclidiana entre los puntos (lat, lon) del estado actual y el final\n",
    "        distancia = math.sqrt((lat_objetivo-lat_actual ) ** 2 + (lon_objetivo-lon_actual ) ** 2)\n",
    "        \n",
    "        return distancia\n"
   ]
  },
  {
   "cell_type": "markdown",
   "metadata": {},
   "source": [
    "#### Clase `Busqueda`\n",
    "\n",
    "La clase `Busqueda` es una clase abstracta, la cual tiene los siguientes atributos:\n",
    "- El atributo problema, que guardará el `Problema` a resolver.\n",
    "- El atributo frontera, el cual almacena los `Nodos` que se encuentran en estado abierto, es decir que se han generado pero no visitado aún. La estructura de este atributo cambiará dependiendo del método de búsqueda, por lo que es un atributo abstracto.\n",
    "- El atributo nodos cerrados, el cual tendrá una estructura de conjuntos. Almacena los `Nodos` que se han comprobado si son solución.\n",
    "- Los atributos relacionados con las estadísticas:\n",
    "    - El tiempo ejecucion en generar la solución.\n",
    "    - El número de nodos generados.\n",
    "    - El número de nodos expandidos\n",
    "    - La profundidad de la solución.\n",
    "    - El coste de la solución\n",
    "    - La lista de `Nodos` que forman parte de la solución.\n",
    "\n",
    "La clase `Busqueda` tiene métodos abstractos, es necesario que sean declarados de esta manera ya que cada estrategia de búsqueda los implementará de manera distinta: \n",
    "- `insertarNodo(self, nodo, frontera)`: Método utilizado para insertar un nodo en la lista.\n",
    "- `extraerNodo(self, frontera)`: Método utilizado para extraer un nodo de la frontera.\n",
    "- `esVacio(self, frontera)`: Método utilizado para comprobar si la frontera está vacía, es necesario que este método sea abstracto ya que la la estructura de datos de la frontera será distinta en las estrategias de búsqueda no informada e informada. \n",
    "\n",
    "Métodos obligatorios: \n",
    "- ` __init__(self, problema)`: Constructor de la clase.\n",
    "- `expandir(self, nodo)`: Método utilizado para expandir un `Nodo`, devuelve una lista de `Nodos` sucesores al `Nodo` actual.\n",
    "- `busqueda(self)`: Método utilizado para realizar una búsqueda de grafos. Además incluye las estadísticas que se mostrarán por pantalla al llamar al método encargado de generarlas e imprimirlas.\n",
    "\n",
    "Métodos relacionados con las estadísticas:\n",
    "- `formatoTiempo(self, tiempo_total)`: Método utilizado para formatear el tiempo (tanto el coste como el de ejecución) a un patrón común.\n",
    "- `formatoSolucion(self, solucion)`: Método utilizado para mostrar la solución de la misma manera que las soluciones dadas por el profesor.\n",
    "- `imprimirEstadisticas(self)`: Método utilizado para impirmir todas las estadísitcas por pantalla. "
   ]
  },
  {
   "cell_type": "code",
   "execution_count": 6,
   "metadata": {},
   "outputs": [],
   "source": [
    "class Busqueda(ABC):\n",
    "    def __init__(self, problema):\n",
    "        #Datos que necesitamos para el problems\n",
    "        self.problema = problema\n",
    "        self.nodos_cerrados = set()\n",
    "        self.frontera = None\n",
    "\n",
    "        #Datos para las estadisticas\n",
    "        self.tiempo_ejecucion = 0\n",
    "        self.nodos_generados = 0\n",
    "        self.nodos_expandidos = 0\n",
    "        self.profundidad_sol = 0\n",
    "        self.coste_sol = 0\n",
    "        self.hay_sol = False\n",
    "        self.solucion = []\n",
    "    \n",
    "    #Metodos implementados en las clases especificas\n",
    "    @abstractmethod\n",
    "    def insertarNodo(self, nodo, frontera):\n",
    "        pass\n",
    "    @abstractmethod\n",
    "    def extraerNodo(self, frontera):\n",
    "        pass\n",
    "    @abstractmethod\n",
    "    def esVacio(self, frontera):\n",
    "        pass\n",
    "    \n",
    "    #Metodos para las estadisticas\n",
    "    def formatoTiempo(self, tiempo_total): #El tiempo total tiene que estar dado en segundos\n",
    "        horas = int(tiempo_total // 3600)\n",
    "        minutos = int((tiempo_total % 3600) // 60)\n",
    "        segundos = int(tiempo_total % 60)\n",
    "        milisegundos = int((tiempo_total - int(tiempo_total)) * 1000000)\n",
    "        tiempo_formateado = f\"{horas:01d}:{minutos:02d}:{segundos:02d}.{milisegundos:06d}\"\n",
    "        return tiempo_formateado\n",
    "\n",
    "    def formatoSolucion(self, solucion):\n",
    "        return [f\"( {solucion[i]} -> {solucion[i + 1]} )\" for i in range(len(solucion) - 1)]\n",
    "\n",
    "    def imprimirEstadisticas(self):\n",
    "        if self.hay_sol:\n",
    "            print(\"\\nEstadísticas:\")\n",
    "            print(f\"Nodos generados: {self.nodos_generados}\")\n",
    "            print(f\"Nodos expandidos: {self.nodos_expandidos}\")\n",
    "            print(f\"Tiempo de ejecuccion: {self.formatoTiempo(self.tiempo_ejecucion)}\")\n",
    "            print(f\"Profundidad de la solución: {self.profundidad_sol}\")\n",
    "            print(f\"Coste: {self.formatoTiempo(self.coste_sol)}\")\n",
    "            print(\"Solución encontrada:\", self.formatoSolucion(self.solucion))\n",
    "        else:\n",
    "            print(\"\\n\\nNo se encontró solución.\")\n",
    "\n",
    "    #Metodos para la busqueda\n",
    "    def expandir(self, nodo):\n",
    "        sucesores = []\n",
    "        acciones = self.problema.getAcciones(nodo.estado)\n",
    "        for accion in acciones:\n",
    "            sucesores.append(Nodo(nodo.estado.aplicarAccion(accion),nodo,nodo.coste + accion.coste,nodo.profundidad + 1))\n",
    "        #ordenar sucesores por nodo.estado.interseccion\n",
    "        sucesores.sort(key=lambda x: x.estado.interseccion)\n",
    "        return sucesores\n",
    "    \n",
    "    def busqueda(self):\n",
    "        inicio = time.perf_counter()\n",
    "        e_inicial = Nodo(self.problema.estado_inicial)\n",
    "        self.insertarNodo(e_inicial, self.frontera)\n",
    "        self.nodos_generados += 1\n",
    "\n",
    "        while not self.esVacio(self.frontera):\n",
    "            nodo = self.extraerNodo(self.frontera)\n",
    "            if nodo.estado.interseccion in self.nodos_cerrados:\n",
    "                continue\n",
    "\n",
    "            if self.problema.esObjetivo(nodo.estado):\n",
    "                self.tiempo_ejecucion = time.perf_counter() - inicio\n",
    "                self.hay_sol = True\n",
    "                self.profundidad_sol = nodo.profundidad\n",
    "                self.coste_sol = nodo.coste\n",
    "                self.solucion = nodo.getSolucion()\n",
    "                self.imprimirEstadisticas()\n",
    "                return self.solucion \n",
    "            \n",
    "            #Ha sido explorado y no es solucion\n",
    "            self.nodos_expandidos += 1\n",
    "            self.nodos_cerrados.add(nodo.estado.interseccion)\n",
    "            #expandimos\n",
    "            sucesores = self.expandir(nodo)\n",
    "\n",
    "            for sucesor in sucesores:\n",
    "                self.insertarNodo(sucesor, self.frontera)\n",
    "                self.nodos_generados += 1\n",
    "            \n",
    "        self.imprimirEstadisticas()\n",
    "        return self.solucion"
   ]
  },
  {
   "cell_type": "markdown",
   "metadata": {},
   "source": [
    "#### Búsqueda no informada: `Busqueda_Profundidad` and `Busqueda_Anchura`\n",
    "\n",
    "Ambas clases son clases heredadas de la clase `Busqueda` por lo tanto heredadarán sus mismos atributos y métodos. La clase `Busqueda` tiene métodos abstractos que varían en función de la estrategia de búsqueda, por lo que aquí serán implementadas distintas según sea `Busqueda_Profundidad` o `Busqueda_Anchura`. Dichos métodos son: ` insertarNodo(self, nodo, frontera)`, `extraerNodo(self, frontera)`, `esVacio(self, frontera)`.\n",
    "Por último, la estructura de la frontera será una lista."
   ]
  },
  {
   "cell_type": "code",
   "execution_count": 7,
   "metadata": {},
   "outputs": [],
   "source": [
    "class Busqueda_Profundidad(Busqueda):\n",
    "    def __init__(self, problema):\n",
    "        super().__init__(problema)\n",
    "        self.frontera = []\n",
    "    \n",
    "    def insertarNodo(self, nodo, frontera):\n",
    "        frontera.insert(0, nodo)\n",
    "        \n",
    "    def extraerNodo(self, frontera):\n",
    "        return frontera.pop(0)\n",
    "    \n",
    "    def esVacio(self, frontera):\n",
    "        return not frontera"
   ]
  },
  {
   "cell_type": "code",
   "execution_count": 8,
   "metadata": {},
   "outputs": [],
   "source": [
    "class Busqueda_Anchura(Busqueda):\n",
    "    def __init__(self, problema):\n",
    "        super().__init__(problema)\n",
    "        self.frontera = []\n",
    "\n",
    "    def insertarNodo(self, nodo, frontera):\n",
    "        frontera.append(nodo)\n",
    "\n",
    "    def extraerNodo(self, frontera):\n",
    "        return frontera.pop(0)\n",
    "    \n",
    "    def esVacio(self, frontera):\n",
    "        return not frontera"
   ]
  },
  {
   "cell_type": "markdown",
   "metadata": {},
   "source": [
    "#### Búsqueda informada: `Busqueda_Primero_Mejor` and `Busqueda_a_estrella`\n",
    "\n",
    "Ambas clases son clases heredadas de la clase `Busqueda` por lo tanto heredadarán sus mismos atributos y métodos.\n",
    "\n",
    "La diferencia entre los algoritmos de búsqueda informada es la manera en la que se calcula el coste de un `Nodo`. El coste para cada estrategia de busqueda informada se calcula de la siguiente manera, siendo f(n) el coste del Nodo, g(n) el coste necesario para llegar del `Nodo` inicial al `Nodo` actual, y h(n) la heurística.:\n",
    "- Primero mejor: $f(n) = h(n)$ \n",
    "- A*: $f(n) = g(n) + h(n)$ \n",
    "\n",
    "Los métodos abstractos ` insertarNodo(self, nodo, frontera)`, `extraerNodo(self, frontera)`, `esVacio(self, frontera)` se implementarán distinto según la estrategia. Además la estructura de la frontera será una PriorityQueue, ya que es una estructura que almacena los datos de manera ordenada automáticamente según el valor que nosotros le indiquemos, en nuestro caso la heurística."
   ]
  },
  {
   "cell_type": "code",
   "execution_count": 9,
   "metadata": {},
   "outputs": [],
   "source": [
    "class Busqueda_Primero_Mejor(Busqueda):\n",
    "    def __init__(self, problema):\n",
    "        super().__init__(problema)\n",
    "        self.frontera = PriorityQueue()\n",
    "\n",
    "    def insertarNodo(self, nodo, frontera):\n",
    "        nodo.heuristica = self.problema.getDistanciaFinal(nodo.estado) / self.problema.veloMax\n",
    "        frontera.put(((nodo.heuristica), nodo))\n",
    "\n",
    "    def extraerNodo(self, frontera):\n",
    "        return frontera.get()[1]\n",
    "\n",
    "    def esVacio(self, frontera):\n",
    "        return not frontera"
   ]
  },
  {
   "cell_type": "code",
   "execution_count": 12,
   "metadata": {},
   "outputs": [],
   "source": [
    "class Busqueda_a_estrella(Busqueda):\n",
    "    def __init__(self, problema):\n",
    "        super().__init__(problema)\n",
    "        self.frontera = PriorityQueue()\n",
    "\n",
    "    def insertarNodo(self, nodo, frontera):\n",
    "        final = self.problema.getDistanciaFinal(nodo.estado) / self.problema.veloMax\n",
    "        nodo.heuristica =  nodo.coste + final \n",
    "        frontera.put(((nodo.heuristica), nodo))\n",
    "\n",
    "    def extraerNodo(self, frontera):\n",
    "        return frontera.get()[1]\n",
    "\n",
    "    def esVacio(self, frontera):\n",
    "        return not frontera"
   ]
  },
  {
   "cell_type": "markdown",
   "metadata": {},
   "source": [
    "#### Ejemplo de uso de los algoritmos de búsqueda\n",
    "\n",
    "Para cambiar el problema que se desea calcular, simplemente hay que cambiar la ruta"
   ]
  },
  {
   "cell_type": "code",
   "execution_count": null,
   "metadata": {},
   "outputs": [],
   "source": [
    "ruta_json = r'examples_with_solutions\\problems\\large\\calle_agustina_aroca_albacete_1000_2.json'\n",
    "\n",
    "#ruta_json = r'pr1_SSII/examples_with_solutions/problems/huge/calle_agustina_aroca_albacete_5000_0.json'\n",
    "\n",
    "problema = Problema(ruta_json)\n",
    "\n",
    "#anchura\n",
    "print(\"\\nanchura\")\n",
    "anchura=Busqueda_Anchura(problema).busqueda()\n",
    "\n",
    "#profundidad\n",
    "print(\"\\nprofundidad\")\n",
    "profundidad=Busqueda_Profundidad(problema).busqueda()\n",
    "\n",
    "#primero mejor\n",
    "print(\"\\nprimero mejor\")\n",
    "primero_mejor = Busqueda_Primero_Mejor(problema).busqueda()\n",
    "\n",
    "#a estrella\n",
    "print(\"\\na estrella\")\n",
    "a_estrella = Busqueda_a_estrella(problema).busqueda()\n",
    "\n",
    "\n",
    "plot(ruta_json, anchura)\n",
    "plot(ruta_json, profundidad)\n",
    "plot(ruta_json, primero_mejor)\n",
    "plot(ruta_json, a_estrella)\n"
   ]
  },
  {
   "cell_type": "code",
   "execution_count": null,
   "metadata": {},
   "outputs": [],
   "source": []
  }
 ],
 "metadata": {
  "datalore": {
   "base_environment": "default",
   "computation_mode": "JUPYTER",
   "package_manager": "pip",
   "packages": [
    {
     "name": "pqueue",
     "source": "PIP",
     "version": "0.1.7"
    },
    {
     "name": "geopy",
     "source": "PIP",
     "version": "2.2.0"
    }
   ],
   "version": 1
  },
  "kernelspec": {
   "display_name": "base",
   "language": "python",
   "name": "python3"
  },
  "language_info": {
   "codemirror_mode": {
    "name": "ipython",
    "version": 3
   },
   "file_extension": ".py",
   "mimetype": "text/x-python",
   "name": "python",
   "nbconvert_exporter": "python",
   "pygments_lexer": "ipython3",
   "version": "3.12.4"
  },
  "latex_envs": {
   "LaTeX_envs_menu_present": true,
   "autoclose": false,
   "autocomplete": true,
   "bibliofile": "biblio.bib",
   "cite_by": "apalike",
   "current_citInitial": 1,
   "eqLabelWithNumbers": true,
   "eqNumInitial": 1,
   "hotkeys": {
    "equation": "Ctrl-E",
    "itemize": "Ctrl-I"
   },
   "labels_anchors": false,
   "latex_user_defs": false,
   "report_style_numbering": false,
   "user_envs_cfg": false
  }
 },
 "nbformat": 4,
 "nbformat_minor": 4
}
